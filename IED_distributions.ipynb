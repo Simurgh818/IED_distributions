{
 "cells": [
  {
   "cell_type": "markdown",
   "id": "670fadc1-6e4b-451f-a6d8-2d9c9c6ad8e9",
   "metadata": {},
   "source": [
    "# IED distributions during flicker sessions\n",
    "\n",
    "### Sina Dabiri\n"
   ]
  },
  {
   "cell_type": "code",
   "execution_count": 4,
   "id": "a89c3cc8-8855-43de-b1cb-fdb5265c4659",
   "metadata": {},
   "outputs": [],
   "source": [
    "import numpy as np\n",
    "import matplotlib\n",
    "from matplotlib import pyplot as plt\n",
    "import seaborn as sns\n",
    "import pandas as pd\n"
   ]
  },
  {
   "cell_type": "markdown",
   "id": "0a2db3d0-7598-4616-bdf0-8a47924f8b62",
   "metadata": {},
   "source": [
    "## 1. select which subject's data to use\n",
    "Check excel sheet to see which subjects to include in IED histogram analysis\n",
    "FlickerStudyMetadata.xlsx"
   ]
  },
  {
   "cell_type": "code",
   "execution_count": 7,
   "id": "8a942346-b7f1-4293-9960-7f7ecc88e7a5",
   "metadata": {},
   "outputs": [
    {
     "ename": "NameError",
     "evalue": "name 'pwd' is not defined",
     "output_type": "error",
     "traceback": [
      "\u001b[1;31m---------------------------------------------------------------------------\u001b[0m",
      "\u001b[1;31mNameError\u001b[0m                                 Traceback (most recent call last)",
      "Cell \u001b[1;32mIn[7], line 2\u001b[0m\n\u001b[0;32m      1\u001b[0m \u001b[38;5;66;03m# root_dir='Y:\\'\u001b[39;00m\n\u001b[1;32m----> 2\u001b[0m \u001b[43mpwd\u001b[49m\n",
      "\u001b[1;31mNameError\u001b[0m: name 'pwd' is not defined"
     ]
    }
   ],
   "source": [
    "# root_dir='Y:\\'\n",
    "\n"
   ]
  },
  {
   "cell_type": "markdown",
   "id": "044cc497-cc07-496b-95bd-31e7bf617fb2",
   "metadata": {},
   "source": [
    "## 2. Import \"All spike\" tables for each session into conda dataframe\n"
   ]
  },
  {
   "cell_type": "code",
   "execution_count": null,
   "id": "9943c7b2-6acb-460b-8fc2-c217a60bbfa3",
   "metadata": {},
   "outputs": [],
   "source": []
  },
  {
   "cell_type": "markdown",
   "id": "0af181fc-5fc2-482a-91ef-31eabe4bab6d",
   "metadata": {},
   "source": [
    "##  3. Plot histograms with different time size bins for each session\n"
   ]
  },
  {
   "cell_type": "code",
   "execution_count": null,
   "id": "1d8826db-6ec1-4fcd-8d52-8f8019d5385f",
   "metadata": {},
   "outputs": [],
   "source": []
  },
  {
   "cell_type": "markdown",
   "id": "5e3e842b-ccbc-49ca-88c0-d8913166347d",
   "metadata": {},
   "source": [
    "## 4. convert each step into a function and run in a loop for all of the selected subject's sessions\n"
   ]
  },
  {
   "cell_type": "code",
   "execution_count": null,
   "id": "cd8fff5e-67cf-4695-ac8f-9da760f20d00",
   "metadata": {},
   "outputs": [],
   "source": []
  }
 ],
 "metadata": {
  "kernelspec": {
   "display_name": "Python 3 (ipykernel)",
   "language": "python",
   "name": "python3"
  },
  "language_info": {
   "codemirror_mode": {
    "name": "ipython",
    "version": 3
   },
   "file_extension": ".py",
   "mimetype": "text/x-python",
   "name": "python",
   "nbconvert_exporter": "python",
   "pygments_lexer": "ipython3",
   "version": "3.9.16"
  }
 },
 "nbformat": 4,
 "nbformat_minor": 5
}
