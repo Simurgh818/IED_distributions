{
 "cells": [
  {
   "cell_type": "markdown",
   "id": "670fadc1-6e4b-451f-a6d8-2d9c9c6ad8e9",
   "metadata": {},
   "source": [
    "# IED distributions during flicker sessions\n",
    "\n",
    "### Sina Dabiri\n"
   ]
  },
  {
   "cell_type": "code",
   "execution_count": 1,
   "id": "a89c3cc8-8855-43de-b1cb-fdb5265c4659",
   "metadata": {},
   "outputs": [],
   "source": [
    "import numpy as np\n",
    "import matplotlib\n",
    "from matplotlib import pyplot as plt\n",
    "import seaborn as sns\n",
    "import pandas as pd\n",
    "import os"
   ]
  },
  {
   "cell_type": "markdown",
   "id": "0a2db3d0-7598-4616-bdf0-8a47924f8b62",
   "metadata": {},
   "source": [
    "## 1. select which subject's data to use\n",
    "Check excel sheet to see which subjects to include in IED histogram analysis\n",
    "FlickerStudyMetadata.xlsx"
   ]
  },
  {
   "cell_type": "code",
   "execution_count": 2,
   "id": "8a942346-b7f1-4293-9960-7f7ecc88e7a5",
   "metadata": {},
   "outputs": [],
   "source": [
    "path=\"Y:\\FlickerStudyMetadata.xlsx\"\n",
    "FlickerStudy_df = pd.read_excel(path)"
   ]
  },
  {
   "cell_type": "code",
   "execution_count": 3,
   "id": "6f129c19-a5b0-448d-818b-6ff7420ad1e0",
   "metadata": {},
   "outputs": [
    {
     "data": {
      "text/html": [
       "<div>\n",
       "<style scoped>\n",
       "    .dataframe tbody tr th:only-of-type {\n",
       "        vertical-align: middle;\n",
       "    }\n",
       "\n",
       "    .dataframe tbody tr th {\n",
       "        vertical-align: top;\n",
       "    }\n",
       "\n",
       "    .dataframe thead th {\n",
       "        text-align: right;\n",
       "    }\n",
       "</style>\n",
       "<table border=\"1\" class=\"dataframe\">\n",
       "  <thead>\n",
       "    <tr style=\"text-align: right;\">\n",
       "      <th></th>\n",
       "      <th>Subject_ID</th>\n",
       "      <th>Experiment</th>\n",
       "      <th>Session</th>\n",
       "      <th>Session_version</th>\n",
       "      <th>Completed?</th>\n",
       "      <th>Number of sessions within experiment</th>\n",
       "      <th>Include in analysis?</th>\n",
       "      <th>Brightness lux 1 (40Hz AV)- left</th>\n",
       "      <th>Brightness lux 2 (40Hz AV)- right</th>\n",
       "      <th>Average brightness</th>\n",
       "      <th>Volume dBA 1 (40Hz AV)- left</th>\n",
       "      <th>Volume dBA 2 (40Hz AV)- right</th>\n",
       "      <th>Average Volume</th>\n",
       "      <th>Did occluded?</th>\n",
       "      <th>Single unit recording?</th>\n",
       "      <th>Number of single units</th>\n",
       "      <th>Location of single units</th>\n",
       "      <th>AEDs taken on day of testing, before testing</th>\n",
       "      <th>Relevant notes</th>\n",
       "    </tr>\n",
       "  </thead>\n",
       "  <tbody>\n",
       "    <tr>\n",
       "      <th>0</th>\n",
       "      <td>FL000</td>\n",
       "      <td>flickerneuro</td>\n",
       "      <td>1</td>\n",
       "      <td>NaN</td>\n",
       "      <td>1</td>\n",
       "      <td>6</td>\n",
       "      <td>1</td>\n",
       "      <td>162</td>\n",
       "      <td>163</td>\n",
       "      <td>162.5</td>\n",
       "      <td>73.9</td>\n",
       "      <td>77.2</td>\n",
       "      <td>75.55</td>\n",
       "      <td>1</td>\n",
       "      <td>0</td>\n",
       "      <td>NaN</td>\n",
       "      <td>NaN</td>\n",
       "      <td>Lamotrigine (300mg); Levetiracetam (750mg); Zo...</td>\n",
       "      <td>Occluded condition was 40Hz-AV; any other notes?</td>\n",
       "    </tr>\n",
       "    <tr>\n",
       "      <th>1</th>\n",
       "      <td>FL001</td>\n",
       "      <td>flickerneuro</td>\n",
       "      <td>1</td>\n",
       "      <td>NaN</td>\n",
       "      <td>1</td>\n",
       "      <td>6</td>\n",
       "      <td>1</td>\n",
       "      <td>200</td>\n",
       "      <td>197</td>\n",
       "      <td>198.5</td>\n",
       "      <td>81.4</td>\n",
       "      <td>83.5</td>\n",
       "      <td>82.45</td>\n",
       "      <td>0</td>\n",
       "      <td>1</td>\n",
       "      <td>11</td>\n",
       "      <td>mid-hippocampus, posterior-cingulate</td>\n",
       "      <td>Lamotrigine (300mg); Levetiracetam (2000mg); T...</td>\n",
       "      <td>NaN</td>\n",
       "    </tr>\n",
       "    <tr>\n",
       "      <th>2</th>\n",
       "      <td>FL002</td>\n",
       "      <td>flickerneuro</td>\n",
       "      <td>1</td>\n",
       "      <td>NaN</td>\n",
       "      <td>1</td>\n",
       "      <td>6</td>\n",
       "      <td>1</td>\n",
       "      <td>13</td>\n",
       "      <td>14</td>\n",
       "      <td>13.5</td>\n",
       "      <td>82.4</td>\n",
       "      <td>83.4</td>\n",
       "      <td>82.90</td>\n",
       "      <td>1</td>\n",
       "      <td>0</td>\n",
       "      <td>NaN</td>\n",
       "      <td>NaN</td>\n",
       "      <td>Lamotrigine (200mg).</td>\n",
       "      <td>NaN</td>\n",
       "    </tr>\n",
       "    <tr>\n",
       "      <th>3</th>\n",
       "      <td>FL003</td>\n",
       "      <td>flickerneuro</td>\n",
       "      <td>1</td>\n",
       "      <td>NaN</td>\n",
       "      <td>1</td>\n",
       "      <td>6</td>\n",
       "      <td>1</td>\n",
       "      <td>48</td>\n",
       "      <td>50</td>\n",
       "      <td>49.0</td>\n",
       "      <td>79.1</td>\n",
       "      <td>77.5</td>\n",
       "      <td>78.30</td>\n",
       "      <td>1</td>\n",
       "      <td>0</td>\n",
       "      <td>NaN</td>\n",
       "      <td>NaN</td>\n",
       "      <td>Lamotrigine (75mg); Levetiracetam (250mg).</td>\n",
       "      <td>NaN</td>\n",
       "    </tr>\n",
       "    <tr>\n",
       "      <th>4</th>\n",
       "      <td>FL003</td>\n",
       "      <td>spep</td>\n",
       "      <td>1</td>\n",
       "      <td>NaN</td>\n",
       "      <td>1</td>\n",
       "      <td>NaN</td>\n",
       "      <td>1</td>\n",
       "      <td>709</td>\n",
       "      <td>720</td>\n",
       "      <td>714.5</td>\n",
       "      <td>91.7</td>\n",
       "      <td>93.4</td>\n",
       "      <td>92.55</td>\n",
       "      <td>1</td>\n",
       "      <td>0</td>\n",
       "      <td>NaN</td>\n",
       "      <td>NaN</td>\n",
       "      <td>None.</td>\n",
       "      <td>NaN</td>\n",
       "    </tr>\n",
       "  </tbody>\n",
       "</table>\n",
       "</div>"
      ],
      "text/plain": [
       "  Subject_ID    Experiment  Session Session_version  Completed?  \\\n",
       "0      FL000  flickerneuro        1             NaN           1   \n",
       "1      FL001  flickerneuro        1             NaN           1   \n",
       "2      FL002  flickerneuro        1             NaN           1   \n",
       "3      FL003  flickerneuro        1             NaN           1   \n",
       "4      FL003          spep        1             NaN           1   \n",
       "\n",
       "  Number of sessions within experiment  Include in analysis?  \\\n",
       "0                                    6                     1   \n",
       "1                                    6                     1   \n",
       "2                                    6                     1   \n",
       "3                                    6                     1   \n",
       "4                                  NaN                     1   \n",
       "\n",
       "  Brightness lux 1 (40Hz AV)- left Brightness lux 2 (40Hz AV)- right  \\\n",
       "0                              162                               163   \n",
       "1                              200                               197   \n",
       "2                               13                                14   \n",
       "3                               48                                50   \n",
       "4                              709                               720   \n",
       "\n",
       "   Average brightness  Volume dBA 1 (40Hz AV)- left  \\\n",
       "0               162.5                          73.9   \n",
       "1               198.5                          81.4   \n",
       "2                13.5                          82.4   \n",
       "3                49.0                          79.1   \n",
       "4               714.5                          91.7   \n",
       "\n",
       "   Volume dBA 2 (40Hz AV)- right  Average Volume  Did occluded?  \\\n",
       "0                           77.2           75.55              1   \n",
       "1                           83.5           82.45              0   \n",
       "2                           83.4           82.90              1   \n",
       "3                           77.5           78.30              1   \n",
       "4                           93.4           92.55              1   \n",
       "\n",
       "   Single unit recording? Number of single units  \\\n",
       "0                       0                    NaN   \n",
       "1                       1                     11   \n",
       "2                       0                    NaN   \n",
       "3                       0                    NaN   \n",
       "4                       0                    NaN   \n",
       "\n",
       "               Location of single units  \\\n",
       "0                                   NaN   \n",
       "1  mid-hippocampus, posterior-cingulate   \n",
       "2                                   NaN   \n",
       "3                                   NaN   \n",
       "4                                   NaN   \n",
       "\n",
       "        AEDs taken on day of testing, before testing  \\\n",
       "0  Lamotrigine (300mg); Levetiracetam (750mg); Zo...   \n",
       "1  Lamotrigine (300mg); Levetiracetam (2000mg); T...   \n",
       "2                               Lamotrigine (200mg).   \n",
       "3         Lamotrigine (75mg); Levetiracetam (250mg).   \n",
       "4                                              None.   \n",
       "\n",
       "                                     Relevant notes  \n",
       "0  Occluded condition was 40Hz-AV; any other notes?  \n",
       "1                                               NaN  \n",
       "2                                               NaN  \n",
       "3                                               NaN  \n",
       "4                                               NaN  "
      ]
     },
     "execution_count": 3,
     "metadata": {},
     "output_type": "execute_result"
    }
   ],
   "source": [
    "FlickerStudy_df.head()"
   ]
  },
  {
   "cell_type": "code",
   "execution_count": 4,
   "id": "1292ffa4-59c9-4ef2-8ac6-32614d0cf957",
   "metadata": {},
   "outputs": [
    {
     "data": {
      "text/html": [
       "<div>\n",
       "<style scoped>\n",
       "    .dataframe tbody tr th:only-of-type {\n",
       "        vertical-align: middle;\n",
       "    }\n",
       "\n",
       "    .dataframe tbody tr th {\n",
       "        vertical-align: top;\n",
       "    }\n",
       "\n",
       "    .dataframe thead th {\n",
       "        text-align: right;\n",
       "    }\n",
       "</style>\n",
       "<table border=\"1\" class=\"dataframe\">\n",
       "  <thead>\n",
       "    <tr style=\"text-align: right;\">\n",
       "      <th></th>\n",
       "      <th>Subject_ID</th>\n",
       "      <th>Experiment</th>\n",
       "      <th>Session</th>\n",
       "    </tr>\n",
       "  </thead>\n",
       "  <tbody>\n",
       "    <tr>\n",
       "      <th>0</th>\n",
       "      <td>FL000</td>\n",
       "      <td>flickerneuro</td>\n",
       "      <td>1</td>\n",
       "    </tr>\n",
       "    <tr>\n",
       "      <th>1</th>\n",
       "      <td>FL001</td>\n",
       "      <td>flickerneuro</td>\n",
       "      <td>1</td>\n",
       "    </tr>\n",
       "    <tr>\n",
       "      <th>2</th>\n",
       "      <td>FL002</td>\n",
       "      <td>flickerneuro</td>\n",
       "      <td>1</td>\n",
       "    </tr>\n",
       "    <tr>\n",
       "      <th>3</th>\n",
       "      <td>FL003</td>\n",
       "      <td>flickerneuro</td>\n",
       "      <td>1</td>\n",
       "    </tr>\n",
       "    <tr>\n",
       "      <th>6</th>\n",
       "      <td>FL005</td>\n",
       "      <td>flickerneuro</td>\n",
       "      <td>1</td>\n",
       "    </tr>\n",
       "    <tr>\n",
       "      <th>9</th>\n",
       "      <td>FL007</td>\n",
       "      <td>flickerneuro</td>\n",
       "      <td>1</td>\n",
       "    </tr>\n",
       "    <tr>\n",
       "      <th>12</th>\n",
       "      <td>FL009</td>\n",
       "      <td>flickerneuro</td>\n",
       "      <td>1</td>\n",
       "    </tr>\n",
       "    <tr>\n",
       "      <th>14</th>\n",
       "      <td>FL010</td>\n",
       "      <td>flickerneuro</td>\n",
       "      <td>1</td>\n",
       "    </tr>\n",
       "    <tr>\n",
       "      <th>15</th>\n",
       "      <td>FL011</td>\n",
       "      <td>flickerneuro</td>\n",
       "      <td>1</td>\n",
       "    </tr>\n",
       "    <tr>\n",
       "      <th>17</th>\n",
       "      <td>FL012</td>\n",
       "      <td>flickerneuro</td>\n",
       "      <td>1</td>\n",
       "    </tr>\n",
       "    <tr>\n",
       "      <th>21</th>\n",
       "      <td>FL014</td>\n",
       "      <td>flickerneuro</td>\n",
       "      <td>1</td>\n",
       "    </tr>\n",
       "    <tr>\n",
       "      <th>22</th>\n",
       "      <td>FL014</td>\n",
       "      <td>flickerneuro</td>\n",
       "      <td>2</td>\n",
       "    </tr>\n",
       "    <tr>\n",
       "      <th>25</th>\n",
       "      <td>FL016</td>\n",
       "      <td>flickerneuro</td>\n",
       "      <td>1</td>\n",
       "    </tr>\n",
       "    <tr>\n",
       "      <th>33</th>\n",
       "      <td>FL021</td>\n",
       "      <td>flickerneuro</td>\n",
       "      <td>1</td>\n",
       "    </tr>\n",
       "  </tbody>\n",
       "</table>\n",
       "</div>"
      ],
      "text/plain": [
       "   Subject_ID    Experiment  Session\n",
       "0       FL000  flickerneuro        1\n",
       "1       FL001  flickerneuro        1\n",
       "2       FL002  flickerneuro        1\n",
       "3       FL003  flickerneuro        1\n",
       "6       FL005  flickerneuro        1\n",
       "9       FL007  flickerneuro        1\n",
       "12      FL009  flickerneuro        1\n",
       "14      FL010  flickerneuro        1\n",
       "15      FL011  flickerneuro        1\n",
       "17      FL012  flickerneuro        1\n",
       "21      FL014  flickerneuro        1\n",
       "22      FL014  flickerneuro        2\n",
       "25      FL016  flickerneuro        1\n",
       "33      FL021  flickerneuro        1"
      ]
     },
     "execution_count": 4,
     "metadata": {},
     "output_type": "execute_result"
    }
   ],
   "source": [
    "# Filtering for subjects to include in analysis \n",
    "sessions = FlickerStudy_df.loc[FlickerStudy_df['Include in analysis?']>0 ,['Subject_ID','Experiment','Session']]\n",
    "sessions_flickerneuro = sessions.loc[FlickerStudy_df['Experiment']=='flickerneuro']\n",
    "sessions_flickerneuro\n"
   ]
  },
  {
   "cell_type": "markdown",
   "id": "044cc497-cc07-496b-95bd-31e7bf617fb2",
   "metadata": {},
   "source": [
    "## 2. Import \"All spike\" tables for each session into conda dataframe\n"
   ]
  },
  {
   "cell_type": "code",
   "execution_count": 5,
   "id": "6fe12e68-5e90-4188-a8d7-5cbcfbd2d315",
   "metadata": {},
   "outputs": [
    {
     "data": {
      "text/plain": [
       "14"
      ]
     },
     "execution_count": 5,
     "metadata": {},
     "output_type": "execute_result"
    }
   ],
   "source": [
    "rows, col = sessions_flickerneuro.shape\n",
    "rows"
   ]
  },
  {
   "cell_type": "code",
   "execution_count": 6,
   "id": "9943c7b2-6acb-460b-8fc2-c217a60bbfa3",
   "metadata": {},
   "outputs": [],
   "source": [
    "# loop through to get all of the paths to the \"All spike\" xl files\n",
    "\n",
    "IED_path=[\"\"]*rows\n",
    "for p in range(rows):\n",
    "    idx = sessions_flickerneuro.index[p]\n",
    "    subject_path = str(sessions_flickerneuro.loc[idx,'Subject_ID'])+ \"/task-flickerneuro/ses-0\" + str(sessions_flickerneuro.loc[idx,'Session'])\n",
    "    IED_path[p]= \"Y:/stg-preproc/sub-\"+ subject_path + \"/IED-preproc/\""
   ]
  },
  {
   "cell_type": "code",
   "execution_count": 7,
   "id": "1e96b96a-9659-4254-bed9-b956e43b65b8",
   "metadata": {},
   "outputs": [
    {
     "data": {
      "text/plain": [
       "['Y:/stg-preproc/sub-FL000/task-flickerneuro/ses-01/IED-preproc/',\n",
       " 'Y:/stg-preproc/sub-FL001/task-flickerneuro/ses-01/IED-preproc/',\n",
       " 'Y:/stg-preproc/sub-FL002/task-flickerneuro/ses-01/IED-preproc/',\n",
       " 'Y:/stg-preproc/sub-FL003/task-flickerneuro/ses-01/IED-preproc/',\n",
       " 'Y:/stg-preproc/sub-FL005/task-flickerneuro/ses-01/IED-preproc/',\n",
       " 'Y:/stg-preproc/sub-FL007/task-flickerneuro/ses-01/IED-preproc/',\n",
       " 'Y:/stg-preproc/sub-FL009/task-flickerneuro/ses-01/IED-preproc/',\n",
       " 'Y:/stg-preproc/sub-FL010/task-flickerneuro/ses-01/IED-preproc/',\n",
       " 'Y:/stg-preproc/sub-FL011/task-flickerneuro/ses-01/IED-preproc/',\n",
       " 'Y:/stg-preproc/sub-FL012/task-flickerneuro/ses-01/IED-preproc/',\n",
       " 'Y:/stg-preproc/sub-FL014/task-flickerneuro/ses-01/IED-preproc/',\n",
       " 'Y:/stg-preproc/sub-FL014/task-flickerneuro/ses-02/IED-preproc/',\n",
       " 'Y:/stg-preproc/sub-FL016/task-flickerneuro/ses-01/IED-preproc/',\n",
       " 'Y:/stg-preproc/sub-FL021/task-flickerneuro/ses-01/IED-preproc/']"
      ]
     },
     "execution_count": 7,
     "metadata": {},
     "output_type": "execute_result"
    }
   ],
   "source": [
    "IED_path"
   ]
  },
  {
   "cell_type": "code",
   "execution_count": 8,
   "id": "aa4b7ec7-fbf9-4d69-9a09-92aad0ca3e2b",
   "metadata": {},
   "outputs": [
    {
     "data": {
      "text/plain": [
       "array([ 0,  1,  2,  3,  4,  5,  6,  7,  8,  9, 10, 11, 12, 13])"
      ]
     },
     "execution_count": 8,
     "metadata": {},
     "output_type": "execute_result"
    }
   ],
   "source": [
    "# Import subject's Excel file\n",
    "sessions = np.arange(0,rows)\n",
    "sessions\n",
    "# TODO: a loop to get all of the session paths."
   ]
  },
  {
   "cell_type": "code",
   "execution_count": 9,
   "id": "44504c8e-3fcc-4474-a7eb-ee560759b11e",
   "metadata": {},
   "outputs": [
    {
     "data": {
      "text/plain": [
       "'Y:/stg-preproc/sub-FL000/task-flickerneuro/ses-01/IED-preproc/sub-FL000_allspikes.csv'"
      ]
     },
     "execution_count": 9,
     "metadata": {},
     "output_type": "execute_result"
    }
   ],
   "source": [
    "session_path=IED_path[0]+'sub-'+ str(sessions_flickerneuro.loc[0,'Subject_ID'])+'_allspikes.csv'\n",
    "session_path"
   ]
  },
  {
   "cell_type": "code",
   "execution_count": 10,
   "id": "afc6c2f2-daa2-4ee2-ba7b-a9d3d22e9f68",
   "metadata": {},
   "outputs": [
    {
     "data": {
      "text/plain": [
       "'Y:\\\\stg-preproc\\\\sub-FL000\\\\task-flickerneuro\\\\ses-01\\\\IED-preproc\\\\sub-FL000_allspikes.csv'"
      ]
     },
     "execution_count": 10,
     "metadata": {},
     "output_type": "execute_result"
    }
   ],
   "source": [
    "session_path_win = os.path.abspath(session_path)\n",
    "session_path_win"
   ]
  },
  {
   "cell_type": "code",
   "execution_count": 11,
   "id": "c9d8ccc8-c7f8-4c3a-9823-f94a0a8b864f",
   "metadata": {},
   "outputs": [
    {
     "data": {
      "text/plain": [
       "True"
      ]
     },
     "execution_count": 11,
     "metadata": {},
     "output_type": "execute_result"
    }
   ],
   "source": [
    "os.path.exists(session_path_win)"
   ]
  },
  {
   "cell_type": "code",
   "execution_count": 12,
   "id": "631758a6-186d-4c09-978a-f2e69957ba3f",
   "metadata": {},
   "outputs": [
    {
     "data": {
      "text/html": [
       "<div>\n",
       "<style scoped>\n",
       "    .dataframe tbody tr th:only-of-type {\n",
       "        vertical-align: middle;\n",
       "    }\n",
       "\n",
       "    .dataframe tbody tr th {\n",
       "        vertical-align: top;\n",
       "    }\n",
       "\n",
       "    .dataframe thead th {\n",
       "        text-align: right;\n",
       "    }\n",
       "</style>\n",
       "<table border=\"1\" class=\"dataframe\">\n",
       "  <thead>\n",
       "    <tr style=\"text-align: right;\">\n",
       "      <th></th>\n",
       "      <th>clip_ids</th>\n",
       "      <th>clip</th>\n",
       "      <th>subject</th>\n",
       "      <th>start</th>\n",
       "      <th>chan</th>\n",
       "      <th>predicted_class</th>\n",
       "    </tr>\n",
       "  </thead>\n",
       "  <tbody>\n",
       "    <tr>\n",
       "      <th>0</th>\n",
       "      <td>Y:/singer/Lou/Data/temp_flicker-manuscript_IED...</td>\n",
       "      <td>FL000_233_5</td>\n",
       "      <td>FL000</td>\n",
       "      <td>233</td>\n",
       "      <td>5</td>\n",
       "      <td>0</td>\n",
       "    </tr>\n",
       "    <tr>\n",
       "      <th>1</th>\n",
       "      <td>Y:/singer/Lou/Data/temp_flicker-manuscript_IED...</td>\n",
       "      <td>FL000_4503_51</td>\n",
       "      <td>FL000</td>\n",
       "      <td>4503</td>\n",
       "      <td>51</td>\n",
       "      <td>0</td>\n",
       "    </tr>\n",
       "    <tr>\n",
       "      <th>2</th>\n",
       "      <td>Y:/singer/Lou/Data/temp_flicker-manuscript_IED...</td>\n",
       "      <td>FL000_5723_10</td>\n",
       "      <td>FL000</td>\n",
       "      <td>5723</td>\n",
       "      <td>10</td>\n",
       "      <td>0</td>\n",
       "    </tr>\n",
       "    <tr>\n",
       "      <th>3</th>\n",
       "      <td>Y:/singer/Lou/Data/temp_flicker-manuscript_IED...</td>\n",
       "      <td>FL000_6062_62</td>\n",
       "      <td>FL000</td>\n",
       "      <td>6062</td>\n",
       "      <td>62</td>\n",
       "      <td>1</td>\n",
       "    </tr>\n",
       "    <tr>\n",
       "      <th>4</th>\n",
       "      <td>Y:/singer/Lou/Data/temp_flicker-manuscript_IED...</td>\n",
       "      <td>FL000_6066_65</td>\n",
       "      <td>FL000</td>\n",
       "      <td>6066</td>\n",
       "      <td>65</td>\n",
       "      <td>0</td>\n",
       "    </tr>\n",
       "    <tr>\n",
       "      <th>...</th>\n",
       "      <td>...</td>\n",
       "      <td>...</td>\n",
       "      <td>...</td>\n",
       "      <td>...</td>\n",
       "      <td>...</td>\n",
       "      <td>...</td>\n",
       "    </tr>\n",
       "    <tr>\n",
       "      <th>8268</th>\n",
       "      <td>Y:/singer/Lou/Data/temp_flicker-manuscript_IED...</td>\n",
       "      <td>FL000_1311968_5</td>\n",
       "      <td>FL000</td>\n",
       "      <td>1311968</td>\n",
       "      <td>5</td>\n",
       "      <td>1</td>\n",
       "    </tr>\n",
       "    <tr>\n",
       "      <th>8269</th>\n",
       "      <td>Y:/singer/Lou/Data/temp_flicker-manuscript_IED...</td>\n",
       "      <td>FL000_1311982_5</td>\n",
       "      <td>FL000</td>\n",
       "      <td>1311982</td>\n",
       "      <td>5</td>\n",
       "      <td>0</td>\n",
       "    </tr>\n",
       "    <tr>\n",
       "      <th>8270</th>\n",
       "      <td>Y:/singer/Lou/Data/temp_flicker-manuscript_IED...</td>\n",
       "      <td>FL000_1311998_5</td>\n",
       "      <td>FL000</td>\n",
       "      <td>1311998</td>\n",
       "      <td>5</td>\n",
       "      <td>1</td>\n",
       "    </tr>\n",
       "    <tr>\n",
       "      <th>8271</th>\n",
       "      <td>Y:/singer/Lou/Data/temp_flicker-manuscript_IED...</td>\n",
       "      <td>FL000_1311999_6</td>\n",
       "      <td>FL000</td>\n",
       "      <td>1311999</td>\n",
       "      <td>6</td>\n",
       "      <td>1</td>\n",
       "    </tr>\n",
       "    <tr>\n",
       "      <th>8272</th>\n",
       "      <td>Y:/singer/Lou/Data/temp_flicker-manuscript_IED...</td>\n",
       "      <td>FL000_1311999_16</td>\n",
       "      <td>FL000</td>\n",
       "      <td>1311999</td>\n",
       "      <td>16</td>\n",
       "      <td>1</td>\n",
       "    </tr>\n",
       "  </tbody>\n",
       "</table>\n",
       "<p>8273 rows × 6 columns</p>\n",
       "</div>"
      ],
      "text/plain": [
       "                                               clip_ids              clip  \\\n",
       "0     Y:/singer/Lou/Data/temp_flicker-manuscript_IED...       FL000_233_5   \n",
       "1     Y:/singer/Lou/Data/temp_flicker-manuscript_IED...     FL000_4503_51   \n",
       "2     Y:/singer/Lou/Data/temp_flicker-manuscript_IED...     FL000_5723_10   \n",
       "3     Y:/singer/Lou/Data/temp_flicker-manuscript_IED...     FL000_6062_62   \n",
       "4     Y:/singer/Lou/Data/temp_flicker-manuscript_IED...     FL000_6066_65   \n",
       "...                                                 ...               ...   \n",
       "8268  Y:/singer/Lou/Data/temp_flicker-manuscript_IED...   FL000_1311968_5   \n",
       "8269  Y:/singer/Lou/Data/temp_flicker-manuscript_IED...   FL000_1311982_5   \n",
       "8270  Y:/singer/Lou/Data/temp_flicker-manuscript_IED...   FL000_1311998_5   \n",
       "8271  Y:/singer/Lou/Data/temp_flicker-manuscript_IED...   FL000_1311999_6   \n",
       "8272  Y:/singer/Lou/Data/temp_flicker-manuscript_IED...  FL000_1311999_16   \n",
       "\n",
       "     subject    start  chan  predicted_class  \n",
       "0      FL000      233     5                0  \n",
       "1      FL000     4503    51                0  \n",
       "2      FL000     5723    10                0  \n",
       "3      FL000     6062    62                1  \n",
       "4      FL000     6066    65                0  \n",
       "...      ...      ...   ...              ...  \n",
       "8268   FL000  1311968     5                1  \n",
       "8269   FL000  1311982     5                0  \n",
       "8270   FL000  1311998     5                1  \n",
       "8271   FL000  1311999     6                1  \n",
       "8272   FL000  1311999    16                1  \n",
       "\n",
       "[8273 rows x 6 columns]"
      ]
     },
     "execution_count": 12,
     "metadata": {},
     "output_type": "execute_result"
    }
   ],
   "source": [
    "session_df = pd.read_csv(session_path_win)\n",
    "session_df"
   ]
  },
  {
   "cell_type": "markdown",
   "id": "a6eeedf6-ade1-4059-9bde-c53e87649e89",
   "metadata": {},
   "source": [
    "### 2.1: filter out false positive IED events: 0 is true IED 1 is False positive"
   ]
  },
  {
   "cell_type": "code",
   "execution_count": 13,
   "id": "cd24aea2-bbee-4064-abd8-9afbe9196649",
   "metadata": {},
   "outputs": [
    {
     "data": {
      "text/html": [
       "<div>\n",
       "<style scoped>\n",
       "    .dataframe tbody tr th:only-of-type {\n",
       "        vertical-align: middle;\n",
       "    }\n",
       "\n",
       "    .dataframe tbody tr th {\n",
       "        vertical-align: top;\n",
       "    }\n",
       "\n",
       "    .dataframe thead th {\n",
       "        text-align: right;\n",
       "    }\n",
       "</style>\n",
       "<table border=\"1\" class=\"dataframe\">\n",
       "  <thead>\n",
       "    <tr style=\"text-align: right;\">\n",
       "      <th></th>\n",
       "      <th>clip_ids</th>\n",
       "      <th>clip</th>\n",
       "      <th>subject</th>\n",
       "      <th>start</th>\n",
       "      <th>chan</th>\n",
       "      <th>predicted_class</th>\n",
       "    </tr>\n",
       "  </thead>\n",
       "  <tbody>\n",
       "    <tr>\n",
       "      <th>0</th>\n",
       "      <td>Y:/singer/Lou/Data/temp_flicker-manuscript_IED...</td>\n",
       "      <td>FL000_233_5</td>\n",
       "      <td>FL000</td>\n",
       "      <td>233</td>\n",
       "      <td>5</td>\n",
       "      <td>0</td>\n",
       "    </tr>\n",
       "    <tr>\n",
       "      <th>1</th>\n",
       "      <td>Y:/singer/Lou/Data/temp_flicker-manuscript_IED...</td>\n",
       "      <td>FL000_4503_51</td>\n",
       "      <td>FL000</td>\n",
       "      <td>4503</td>\n",
       "      <td>51</td>\n",
       "      <td>0</td>\n",
       "    </tr>\n",
       "    <tr>\n",
       "      <th>2</th>\n",
       "      <td>Y:/singer/Lou/Data/temp_flicker-manuscript_IED...</td>\n",
       "      <td>FL000_5723_10</td>\n",
       "      <td>FL000</td>\n",
       "      <td>5723</td>\n",
       "      <td>10</td>\n",
       "      <td>0</td>\n",
       "    </tr>\n",
       "    <tr>\n",
       "      <th>4</th>\n",
       "      <td>Y:/singer/Lou/Data/temp_flicker-manuscript_IED...</td>\n",
       "      <td>FL000_6066_65</td>\n",
       "      <td>FL000</td>\n",
       "      <td>6066</td>\n",
       "      <td>65</td>\n",
       "      <td>0</td>\n",
       "    </tr>\n",
       "    <tr>\n",
       "      <th>5</th>\n",
       "      <td>Y:/singer/Lou/Data/temp_flicker-manuscript_IED...</td>\n",
       "      <td>FL000_6066_66</td>\n",
       "      <td>FL000</td>\n",
       "      <td>6066</td>\n",
       "      <td>66</td>\n",
       "      <td>0</td>\n",
       "    </tr>\n",
       "    <tr>\n",
       "      <th>...</th>\n",
       "      <td>...</td>\n",
       "      <td>...</td>\n",
       "      <td>...</td>\n",
       "      <td>...</td>\n",
       "      <td>...</td>\n",
       "      <td>...</td>\n",
       "    </tr>\n",
       "    <tr>\n",
       "      <th>8259</th>\n",
       "      <td>Y:/singer/Lou/Data/temp_flicker-manuscript_IED...</td>\n",
       "      <td>FL000_1296284_5</td>\n",
       "      <td>FL000</td>\n",
       "      <td>1296284</td>\n",
       "      <td>5</td>\n",
       "      <td>0</td>\n",
       "    </tr>\n",
       "    <tr>\n",
       "      <th>8261</th>\n",
       "      <td>Y:/singer/Lou/Data/temp_flicker-manuscript_IED...</td>\n",
       "      <td>FL000_1302343_4</td>\n",
       "      <td>FL000</td>\n",
       "      <td>1302343</td>\n",
       "      <td>4</td>\n",
       "      <td>0</td>\n",
       "    </tr>\n",
       "    <tr>\n",
       "      <th>8264</th>\n",
       "      <td>Y:/singer/Lou/Data/temp_flicker-manuscript_IED...</td>\n",
       "      <td>FL000_1305562_99</td>\n",
       "      <td>FL000</td>\n",
       "      <td>1305562</td>\n",
       "      <td>99</td>\n",
       "      <td>0</td>\n",
       "    </tr>\n",
       "    <tr>\n",
       "      <th>8266</th>\n",
       "      <td>Y:/singer/Lou/Data/temp_flicker-manuscript_IED...</td>\n",
       "      <td>FL000_1306738_5</td>\n",
       "      <td>FL000</td>\n",
       "      <td>1306738</td>\n",
       "      <td>5</td>\n",
       "      <td>0</td>\n",
       "    </tr>\n",
       "    <tr>\n",
       "      <th>8269</th>\n",
       "      <td>Y:/singer/Lou/Data/temp_flicker-manuscript_IED...</td>\n",
       "      <td>FL000_1311982_5</td>\n",
       "      <td>FL000</td>\n",
       "      <td>1311982</td>\n",
       "      <td>5</td>\n",
       "      <td>0</td>\n",
       "    </tr>\n",
       "  </tbody>\n",
       "</table>\n",
       "<p>3019 rows × 6 columns</p>\n",
       "</div>"
      ],
      "text/plain": [
       "                                               clip_ids              clip  \\\n",
       "0     Y:/singer/Lou/Data/temp_flicker-manuscript_IED...       FL000_233_5   \n",
       "1     Y:/singer/Lou/Data/temp_flicker-manuscript_IED...     FL000_4503_51   \n",
       "2     Y:/singer/Lou/Data/temp_flicker-manuscript_IED...     FL000_5723_10   \n",
       "4     Y:/singer/Lou/Data/temp_flicker-manuscript_IED...     FL000_6066_65   \n",
       "5     Y:/singer/Lou/Data/temp_flicker-manuscript_IED...     FL000_6066_66   \n",
       "...                                                 ...               ...   \n",
       "8259  Y:/singer/Lou/Data/temp_flicker-manuscript_IED...   FL000_1296284_5   \n",
       "8261  Y:/singer/Lou/Data/temp_flicker-manuscript_IED...   FL000_1302343_4   \n",
       "8264  Y:/singer/Lou/Data/temp_flicker-manuscript_IED...  FL000_1305562_99   \n",
       "8266  Y:/singer/Lou/Data/temp_flicker-manuscript_IED...   FL000_1306738_5   \n",
       "8269  Y:/singer/Lou/Data/temp_flicker-manuscript_IED...   FL000_1311982_5   \n",
       "\n",
       "     subject    start  chan  predicted_class  \n",
       "0      FL000      233     5                0  \n",
       "1      FL000     4503    51                0  \n",
       "2      FL000     5723    10                0  \n",
       "4      FL000     6066    65                0  \n",
       "5      FL000     6066    66                0  \n",
       "...      ...      ...   ...              ...  \n",
       "8259   FL000  1296284     5                0  \n",
       "8261   FL000  1302343     4                0  \n",
       "8264   FL000  1305562    99                0  \n",
       "8266   FL000  1306738     5                0  \n",
       "8269   FL000  1311982     5                0  \n",
       "\n",
       "[3019 rows x 6 columns]"
      ]
     },
     "execution_count": 13,
     "metadata": {},
     "output_type": "execute_result"
    }
   ],
   "source": [
    "session_df_tp = session_df[session_df['predicted_class']==0]\n",
    "session_df_tp"
   ]
  },
  {
   "cell_type": "markdown",
   "id": "9c535578-704c-41ec-9e36-061cb93feaa5",
   "metadata": {},
   "source": [
    "### 2.2: filter out overlapping IED events within 100 msec\n",
    "- fs = 200 Hz -> ts = 5 mses\n",
    "- 100 msec/5 msec = 20 samples\n",
    "- next IED start >= 20 samples "
   ]
  },
  {
   "cell_type": "code",
   "execution_count": 14,
   "id": "e986384c-14ab-431a-aab1-b6dcdd5f37f1",
   "metadata": {},
   "outputs": [
    {
     "data": {
      "text/html": [
       "<div>\n",
       "<style scoped>\n",
       "    .dataframe tbody tr th:only-of-type {\n",
       "        vertical-align: middle;\n",
       "    }\n",
       "\n",
       "    .dataframe tbody tr th {\n",
       "        vertical-align: top;\n",
       "    }\n",
       "\n",
       "    .dataframe thead th {\n",
       "        text-align: right;\n",
       "    }\n",
       "</style>\n",
       "<table border=\"1\" class=\"dataframe\">\n",
       "  <thead>\n",
       "    <tr style=\"text-align: right;\">\n",
       "      <th></th>\n",
       "      <th>clip_ids</th>\n",
       "      <th>clip</th>\n",
       "      <th>subject</th>\n",
       "      <th>start</th>\n",
       "      <th>chan</th>\n",
       "      <th>predicted_class</th>\n",
       "    </tr>\n",
       "  </thead>\n",
       "  <tbody>\n",
       "    <tr>\n",
       "      <th>0</th>\n",
       "      <td>Y:/singer/Lou/Data/temp_flicker-manuscript_IED...</td>\n",
       "      <td>FL000_233_5</td>\n",
       "      <td>FL000</td>\n",
       "      <td>233</td>\n",
       "      <td>5</td>\n",
       "      <td>0</td>\n",
       "    </tr>\n",
       "    <tr>\n",
       "      <th>1</th>\n",
       "      <td>Y:/singer/Lou/Data/temp_flicker-manuscript_IED...</td>\n",
       "      <td>FL000_4503_51</td>\n",
       "      <td>FL000</td>\n",
       "      <td>4503</td>\n",
       "      <td>51</td>\n",
       "      <td>0</td>\n",
       "    </tr>\n",
       "    <tr>\n",
       "      <th>2</th>\n",
       "      <td>Y:/singer/Lou/Data/temp_flicker-manuscript_IED...</td>\n",
       "      <td>FL000_5723_10</td>\n",
       "      <td>FL000</td>\n",
       "      <td>5723</td>\n",
       "      <td>10</td>\n",
       "      <td>0</td>\n",
       "    </tr>\n",
       "    <tr>\n",
       "      <th>4</th>\n",
       "      <td>Y:/singer/Lou/Data/temp_flicker-manuscript_IED...</td>\n",
       "      <td>FL000_6066_65</td>\n",
       "      <td>FL000</td>\n",
       "      <td>6066</td>\n",
       "      <td>65</td>\n",
       "      <td>0</td>\n",
       "    </tr>\n",
       "    <tr>\n",
       "      <th>5</th>\n",
       "      <td>Y:/singer/Lou/Data/temp_flicker-manuscript_IED...</td>\n",
       "      <td>FL000_6066_66</td>\n",
       "      <td>FL000</td>\n",
       "      <td>6066</td>\n",
       "      <td>66</td>\n",
       "      <td>0</td>\n",
       "    </tr>\n",
       "    <tr>\n",
       "      <th>6</th>\n",
       "      <td>Y:/singer/Lou/Data/temp_flicker-manuscript_IED...</td>\n",
       "      <td>FL000_6068_63</td>\n",
       "      <td>FL000</td>\n",
       "      <td>6068</td>\n",
       "      <td>63</td>\n",
       "      <td>0</td>\n",
       "    </tr>\n",
       "    <tr>\n",
       "      <th>7</th>\n",
       "      <td>Y:/singer/Lou/Data/temp_flicker-manuscript_IED...</td>\n",
       "      <td>FL000_6645_52</td>\n",
       "      <td>FL000</td>\n",
       "      <td>6645</td>\n",
       "      <td>52</td>\n",
       "      <td>0</td>\n",
       "    </tr>\n",
       "    <tr>\n",
       "      <th>8</th>\n",
       "      <td>Y:/singer/Lou/Data/temp_flicker-manuscript_IED...</td>\n",
       "      <td>FL000_6645_51</td>\n",
       "      <td>FL000</td>\n",
       "      <td>6645</td>\n",
       "      <td>51</td>\n",
       "      <td>0</td>\n",
       "    </tr>\n",
       "    <tr>\n",
       "      <th>9</th>\n",
       "      <td>Y:/singer/Lou/Data/temp_flicker-manuscript_IED...</td>\n",
       "      <td>FL000_6645_50</td>\n",
       "      <td>FL000</td>\n",
       "      <td>6645</td>\n",
       "      <td>50</td>\n",
       "      <td>0</td>\n",
       "    </tr>\n",
       "    <tr>\n",
       "      <th>10</th>\n",
       "      <td>Y:/singer/Lou/Data/temp_flicker-manuscript_IED...</td>\n",
       "      <td>FL000_7946_38</td>\n",
       "      <td>FL000</td>\n",
       "      <td>7946</td>\n",
       "      <td>38</td>\n",
       "      <td>0</td>\n",
       "    </tr>\n",
       "  </tbody>\n",
       "</table>\n",
       "</div>"
      ],
      "text/plain": [
       "                                             clip_ids           clip subject  \\\n",
       "0   Y:/singer/Lou/Data/temp_flicker-manuscript_IED...    FL000_233_5   FL000   \n",
       "1   Y:/singer/Lou/Data/temp_flicker-manuscript_IED...  FL000_4503_51   FL000   \n",
       "2   Y:/singer/Lou/Data/temp_flicker-manuscript_IED...  FL000_5723_10   FL000   \n",
       "4   Y:/singer/Lou/Data/temp_flicker-manuscript_IED...  FL000_6066_65   FL000   \n",
       "5   Y:/singer/Lou/Data/temp_flicker-manuscript_IED...  FL000_6066_66   FL000   \n",
       "6   Y:/singer/Lou/Data/temp_flicker-manuscript_IED...  FL000_6068_63   FL000   \n",
       "7   Y:/singer/Lou/Data/temp_flicker-manuscript_IED...  FL000_6645_52   FL000   \n",
       "8   Y:/singer/Lou/Data/temp_flicker-manuscript_IED...  FL000_6645_51   FL000   \n",
       "9   Y:/singer/Lou/Data/temp_flicker-manuscript_IED...  FL000_6645_50   FL000   \n",
       "10  Y:/singer/Lou/Data/temp_flicker-manuscript_IED...  FL000_7946_38   FL000   \n",
       "\n",
       "    start  chan  predicted_class  \n",
       "0     233     5                0  \n",
       "1    4503    51                0  \n",
       "2    5723    10                0  \n",
       "4    6066    65                0  \n",
       "5    6066    66                0  \n",
       "6    6068    63                0  \n",
       "7    6645    52                0  \n",
       "8    6645    51                0  \n",
       "9    6645    50                0  \n",
       "10   7946    38                0  "
      ]
     },
     "execution_count": 14,
     "metadata": {},
     "output_type": "execute_result"
    }
   ],
   "source": [
    "session_df_tp.head(10)"
   ]
  },
  {
   "cell_type": "code",
   "execution_count": 15,
   "id": "9465cdb6-4c6e-4a5a-ac3c-fff244174aeb",
   "metadata": {},
   "outputs": [
    {
     "name": "stdout",
     "output_type": "stream",
     "text": [
      "3019\n"
     ]
    }
   ],
   "source": [
    "# write a for loop to only keep IED with start time >20 sample later \n",
    "m, n = session_df_tp.shape\n",
    "print(m)\n",
    "true_IEDs = np.zeros((m,2),dtype=int);\n",
    "true_IEDs_df = pd.DataFrame({\"start\":[session_df_tp.at[0,'start']],\n",
    "                            \"chan\":[session_df_tp.at[0,'chan']]})\n",
    "true_IEDs[0,:] = [session_df_tp.at[0,'start'],session_df_tp.at[0,'chan']]\n",
    "i = 1\n",
    "for ied in range(1,m):\n",
    "    idx = session_df_tp.index.values[ied]\n",
    "    # print(idx)\n",
    "    if (idx and idx+1) in session_df_tp.index:\n",
    "        \n",
    "        if (int(session_df_tp.loc[[idx], 'start']+20) < int(session_df_tp.loc[[idx+1], 'start'])):\n",
    "            true_IEDs[i,:] = [session_df_tp.loc[idx,'start'],session_df_tp.loc[idx,'chan']]\n",
    "            i=  i+1\n",
    "            #true_IEDs_df.\n",
    "        else:\n",
    "            ied = ied+1\n",
    "        "
   ]
  },
  {
   "cell_type": "code",
   "execution_count": 16,
   "id": "74f03f40-9985-45da-8557-f3dcff57092a",
   "metadata": {},
   "outputs": [
    {
     "name": "stdout",
     "output_type": "stream",
     "text": [
      "(3019, 2)\n"
     ]
    },
    {
     "data": {
      "text/plain": [
       "array([[  233,     5],\n",
       "       [ 4503,    51],\n",
       "       [ 6068,    63],\n",
       "       [ 6645,    50],\n",
       "       [ 7946,    38],\n",
       "       [23647,    38],\n",
       "       [27313,    51],\n",
       "       [29563,    44],\n",
       "       [33642,    65],\n",
       "       [34898,    57]])"
      ]
     },
     "execution_count": 16,
     "metadata": {},
     "output_type": "execute_result"
    }
   ],
   "source": [
    "print(true_IEDs.shape)\n",
    "true_IEDs[0:10,:]"
   ]
  },
  {
   "cell_type": "code",
   "execution_count": 17,
   "id": "eaa48f7c-c428-40ef-b7e7-19fe76f298aa",
   "metadata": {},
   "outputs": [
    {
     "data": {
      "text/html": [
       "<div>\n",
       "<style scoped>\n",
       "    .dataframe tbody tr th:only-of-type {\n",
       "        vertical-align: middle;\n",
       "    }\n",
       "\n",
       "    .dataframe tbody tr th {\n",
       "        vertical-align: top;\n",
       "    }\n",
       "\n",
       "    .dataframe thead th {\n",
       "        text-align: right;\n",
       "    }\n",
       "</style>\n",
       "<table border=\"1\" class=\"dataframe\">\n",
       "  <thead>\n",
       "    <tr style=\"text-align: right;\">\n",
       "      <th></th>\n",
       "      <th>start</th>\n",
       "      <th>chan</th>\n",
       "    </tr>\n",
       "  </thead>\n",
       "  <tbody>\n",
       "    <tr>\n",
       "      <th>0</th>\n",
       "      <td>233</td>\n",
       "      <td>5</td>\n",
       "    </tr>\n",
       "    <tr>\n",
       "      <th>1</th>\n",
       "      <td>4503</td>\n",
       "      <td>51</td>\n",
       "    </tr>\n",
       "    <tr>\n",
       "      <th>2</th>\n",
       "      <td>6068</td>\n",
       "      <td>63</td>\n",
       "    </tr>\n",
       "    <tr>\n",
       "      <th>3</th>\n",
       "      <td>6645</td>\n",
       "      <td>50</td>\n",
       "    </tr>\n",
       "    <tr>\n",
       "      <th>4</th>\n",
       "      <td>7946</td>\n",
       "      <td>38</td>\n",
       "    </tr>\n",
       "    <tr>\n",
       "      <th>...</th>\n",
       "      <td>...</td>\n",
       "      <td>...</td>\n",
       "    </tr>\n",
       "    <tr>\n",
       "      <th>3014</th>\n",
       "      <td>0</td>\n",
       "      <td>0</td>\n",
       "    </tr>\n",
       "    <tr>\n",
       "      <th>3015</th>\n",
       "      <td>0</td>\n",
       "      <td>0</td>\n",
       "    </tr>\n",
       "    <tr>\n",
       "      <th>3016</th>\n",
       "      <td>0</td>\n",
       "      <td>0</td>\n",
       "    </tr>\n",
       "    <tr>\n",
       "      <th>3017</th>\n",
       "      <td>0</td>\n",
       "      <td>0</td>\n",
       "    </tr>\n",
       "    <tr>\n",
       "      <th>3018</th>\n",
       "      <td>0</td>\n",
       "      <td>0</td>\n",
       "    </tr>\n",
       "  </tbody>\n",
       "</table>\n",
       "<p>3019 rows × 2 columns</p>\n",
       "</div>"
      ],
      "text/plain": [
       "      start  chan\n",
       "0       233     5\n",
       "1      4503    51\n",
       "2      6068    63\n",
       "3      6645    50\n",
       "4      7946    38\n",
       "...     ...   ...\n",
       "3014      0     0\n",
       "3015      0     0\n",
       "3016      0     0\n",
       "3017      0     0\n",
       "3018      0     0\n",
       "\n",
       "[3019 rows x 2 columns]"
      ]
     },
     "execution_count": 17,
     "metadata": {},
     "output_type": "execute_result"
    }
   ],
   "source": [
    "true_IEDs_df = pd.DataFrame(true_IEDs,columns=['start','chan'])\n",
    "true_IEDs_df"
   ]
  },
  {
   "cell_type": "code",
   "execution_count": 18,
   "id": "ce27c16f-5bd3-4144-8bec-705fb879c77d",
   "metadata": {},
   "outputs": [
    {
     "data": {
      "text/html": [
       "<div>\n",
       "<style scoped>\n",
       "    .dataframe tbody tr th:only-of-type {\n",
       "        vertical-align: middle;\n",
       "    }\n",
       "\n",
       "    .dataframe tbody tr th {\n",
       "        vertical-align: top;\n",
       "    }\n",
       "\n",
       "    .dataframe thead th {\n",
       "        text-align: right;\n",
       "    }\n",
       "</style>\n",
       "<table border=\"1\" class=\"dataframe\">\n",
       "  <thead>\n",
       "    <tr style=\"text-align: right;\">\n",
       "      <th></th>\n",
       "      <th>start</th>\n",
       "      <th>chan</th>\n",
       "    </tr>\n",
       "  </thead>\n",
       "  <tbody>\n",
       "    <tr>\n",
       "      <th>0</th>\n",
       "      <td>233</td>\n",
       "      <td>5</td>\n",
       "    </tr>\n",
       "    <tr>\n",
       "      <th>1</th>\n",
       "      <td>4503</td>\n",
       "      <td>51</td>\n",
       "    </tr>\n",
       "    <tr>\n",
       "      <th>2</th>\n",
       "      <td>6068</td>\n",
       "      <td>63</td>\n",
       "    </tr>\n",
       "    <tr>\n",
       "      <th>3</th>\n",
       "      <td>6645</td>\n",
       "      <td>50</td>\n",
       "    </tr>\n",
       "    <tr>\n",
       "      <th>4</th>\n",
       "      <td>7946</td>\n",
       "      <td>38</td>\n",
       "    </tr>\n",
       "    <tr>\n",
       "      <th>...</th>\n",
       "      <td>...</td>\n",
       "      <td>...</td>\n",
       "    </tr>\n",
       "    <tr>\n",
       "      <th>586</th>\n",
       "      <td>1264602</td>\n",
       "      <td>83</td>\n",
       "    </tr>\n",
       "    <tr>\n",
       "      <th>587</th>\n",
       "      <td>1282426</td>\n",
       "      <td>82</td>\n",
       "    </tr>\n",
       "    <tr>\n",
       "      <th>588</th>\n",
       "      <td>1293126</td>\n",
       "      <td>86</td>\n",
       "    </tr>\n",
       "    <tr>\n",
       "      <th>589</th>\n",
       "      <td>1294888</td>\n",
       "      <td>87</td>\n",
       "    </tr>\n",
       "    <tr>\n",
       "      <th>590</th>\n",
       "      <td>1295056</td>\n",
       "      <td>87</td>\n",
       "    </tr>\n",
       "  </tbody>\n",
       "</table>\n",
       "<p>582 rows × 2 columns</p>\n",
       "</div>"
      ],
      "text/plain": [
       "       start  chan\n",
       "0        233     5\n",
       "1       4503    51\n",
       "2       6068    63\n",
       "3       6645    50\n",
       "4       7946    38\n",
       "..       ...   ...\n",
       "586  1264602    83\n",
       "587  1282426    82\n",
       "588  1293126    86\n",
       "589  1294888    87\n",
       "590  1295056    87\n",
       "\n",
       "[582 rows x 2 columns]"
      ]
     },
     "execution_count": 18,
     "metadata": {},
     "output_type": "execute_result"
    }
   ],
   "source": [
    "#filter out the zero values\n",
    "true_IEDs_df_clean= true_IEDs_df[true_IEDs_df['chan']!=0]\n",
    "true_IEDs_df_clean"
   ]
  },
  {
   "cell_type": "code",
   "execution_count": 41,
   "id": "df22055c-82ac-471c-8531-73c04a24e01d",
   "metadata": {},
   "outputs": [
    {
     "data": {
      "text/plain": [
       "5.392816990153322"
      ]
     },
     "execution_count": 41,
     "metadata": {},
     "output_type": "execute_result"
    }
   ],
   "source": [
    "# total spikes over total time\n",
    "total_spikes = np.shape(true_IEDs_df_clean)[0]\n",
    "total_time = true_IEDs_df_clean.iloc[-1,0]/12000\n",
    "total_rate = total_spikes/total_time\n",
    "total_rate"
   ]
  },
  {
   "cell_type": "markdown",
   "id": "e747a4a0-77e6-4423-8066-d1cc4818956f",
   "metadata": {},
   "source": [
    "### 2.3: calculate the IED rate and append to true_IEDs_df"
   ]
  },
  {
   "cell_type": "code",
   "execution_count": 19,
   "id": "defcb8f5-b942-48da-ae99-42a5c23935f4",
   "metadata": {},
   "outputs": [
    {
     "name": "stdout",
     "output_type": "stream",
     "text": [
      "233 1295056\n",
      "[      1   12001   24001   36001   48001   60001   72001   84001   96001\n",
      "  108001  120001  132001  144001  156001  168001  180001  192001  204001\n",
      "  216001  228001  240001  252001  264001  276001  288001  300001  312001\n",
      "  324001  336001  348001  360001  372001  384001  396001  408001  420001\n",
      "  432001  444001  456001  468001  480001  492001  504001  516001  528001\n",
      "  540001  552001  564001  576001  588001  600001  612001  624001  636001\n",
      "  648001  660001  672001  684001  696001  708001  720001  732001  744001\n",
      "  756001  768001  780001  792001  804001  816001  828001  840001  852001\n",
      "  864001  876001  888001  900001  912001  924001  936001  948001  960001\n",
      "  972001  984001  996001 1008001 1020001 1032001 1044001 1056001 1068001\n",
      " 1080001 1092001 1104001 1116001 1128001 1140001 1152001 1164001 1176001\n",
      " 1188001 1200001 1212001 1224001 1236001 1248001 1260001 1272001 1284001] 108\n"
     ]
    }
   ],
   "source": [
    "# fs=200 Hz, so to convert samples to rate IED/min: 200*60 sec = 12000, need to calculate the global number of IEDs from all channels every 12000 samples\n",
    "time_start = true_IEDs_df_clean.iat[0,0]\n",
    "time_end = true_IEDs_df_clean.iat[-1,0]\n",
    "print(time_start,time_end)\n",
    "time = np.arange(1,time_end,12000)\n",
    "m_t = time.shape\n",
    "print(time, m_t[0])    "
   ]
  },
  {
   "cell_type": "code",
   "execution_count": 20,
   "id": "9ae0370e-720a-4c33-a9ce-480ab700787a",
   "metadata": {},
   "outputs": [
    {
     "name": "stdout",
     "output_type": "stream",
     "text": [
      "5\n"
     ]
    },
    {
     "data": {
      "text/html": [
       "<div>\n",
       "<style scoped>\n",
       "    .dataframe tbody tr th:only-of-type {\n",
       "        vertical-align: middle;\n",
       "    }\n",
       "\n",
       "    .dataframe tbody tr th {\n",
       "        vertical-align: top;\n",
       "    }\n",
       "\n",
       "    .dataframe thead th {\n",
       "        text-align: right;\n",
       "    }\n",
       "</style>\n",
       "<table border=\"1\" class=\"dataframe\">\n",
       "  <thead>\n",
       "    <tr style=\"text-align: right;\">\n",
       "      <th></th>\n",
       "      <th>start</th>\n",
       "      <th>chan</th>\n",
       "    </tr>\n",
       "  </thead>\n",
       "  <tbody>\n",
       "    <tr>\n",
       "      <th>0</th>\n",
       "      <td>233</td>\n",
       "      <td>5</td>\n",
       "    </tr>\n",
       "    <tr>\n",
       "      <th>1</th>\n",
       "      <td>4503</td>\n",
       "      <td>51</td>\n",
       "    </tr>\n",
       "    <tr>\n",
       "      <th>2</th>\n",
       "      <td>6068</td>\n",
       "      <td>63</td>\n",
       "    </tr>\n",
       "    <tr>\n",
       "      <th>3</th>\n",
       "      <td>6645</td>\n",
       "      <td>50</td>\n",
       "    </tr>\n",
       "    <tr>\n",
       "      <th>4</th>\n",
       "      <td>7946</td>\n",
       "      <td>38</td>\n",
       "    </tr>\n",
       "  </tbody>\n",
       "</table>\n",
       "</div>"
      ],
      "text/plain": [
       "   start  chan\n",
       "0    233     5\n",
       "1   4503    51\n",
       "2   6068    63\n",
       "3   6645    50\n",
       "4   7946    38"
      ]
     },
     "execution_count": 20,
     "metadata": {},
     "output_type": "execute_result"
    }
   ],
   "source": [
    "time_bin = true_IEDs_df_clean[(true_IEDs_df_clean['start']>1) & (true_IEDs_df_clean['start']<= 12001)]\n",
    "count, w = np.shape(time_bin)\n",
    "print(count)\n",
    "time_bin"
   ]
  },
  {
   "cell_type": "code",
   "execution_count": 21,
   "id": "32e21c34-769d-42b4-a5c8-9cbceb14bd36",
   "metadata": {},
   "outputs": [
    {
     "data": {
      "text/plain": [
       "[5, 5, 5, 5, 5]"
      ]
     },
     "execution_count": 21,
     "metadata": {},
     "output_type": "execute_result"
    }
   ],
   "source": [
    "rate = [5 for i in range(0,5)]\n",
    "rate"
   ]
  },
  {
   "cell_type": "code",
   "execution_count": 22,
   "id": "62de96d9-884e-4a1d-b455-cd04f1555010",
   "metadata": {},
   "outputs": [
    {
     "data": {
      "text/plain": [
       "array([[ 12001.,      0.,      0.,      0.,      0.,      0.],\n",
       "       [ 24001.,      0.,      0.,      0.,      0.,      0.],\n",
       "       [ 36001.,      0.,      0.,      0.,      0.,      0.],\n",
       "       [ 48001.,      0.,      0.,      0.,      0.,      0.],\n",
       "       [ 60001.,      0.,      0.,      0.,      0.,      0.],\n",
       "       [ 72001.,      0.,      0.,      0.,      0.,      0.],\n",
       "       [ 84001.,      0.,      0.,      0.,      0.,      0.],\n",
       "       [ 96001.,      0.,      0.,      0.,      0.,      0.],\n",
       "       [108001.,      0.,      0.,      0.,      0.,      0.]])"
      ]
     },
     "execution_count": 22,
     "metadata": {},
     "output_type": "execute_result"
    }
   ],
   "source": [
    "IED_rate = np.zeros((int(m_t[0]),n))\n",
    "IED_rate[:,0]=time\n",
    "IED_rate[1:10]"
   ]
  },
  {
   "cell_type": "code",
   "execution_count": 23,
   "id": "3a0f356d-352f-40b4-a665-05177c6d2fa2",
   "metadata": {},
   "outputs": [],
   "source": [
    "\n",
    "for idx, t in enumerate(time[0:-2]):\n",
    "    # print(idx,t)\n",
    "    time_bin = true_IEDs_df_clean[(true_IEDs_df_clean['start']>time[idx]) & (true_IEDs_df_clean['start']<= time[idx+1])]\n",
    "    count, w = np.shape(time_bin)\n",
    "    #print(count)\n",
    "    IED_rate[idx,1] =  count #[count for i in range (idx, idx+count)]\n",
    "    #true_IEDs_df_clean.loc[idx:idx+count,'IED_rate']=[count for i in range (idx, idx+count)]\n",
    "    #idx = idx+count"
   ]
  },
  {
   "cell_type": "code",
   "execution_count": 24,
   "id": "fc55959f-da5f-4e79-bc7d-a41c296a9424",
   "metadata": {},
   "outputs": [
    {
     "name": "stdout",
     "output_type": "stream",
     "text": [
      "(108, 6)\n"
     ]
    },
    {
     "data": {
      "text/plain": [
       "array([[1.00000e+00, 5.00000e+00, 0.00000e+00, 0.00000e+00, 0.00000e+00,\n",
       "        0.00000e+00],\n",
       "       [1.20010e+04, 1.00000e+00, 0.00000e+00, 0.00000e+00, 0.00000e+00,\n",
       "        0.00000e+00],\n",
       "       [2.40010e+04, 4.00000e+00, 0.00000e+00, 0.00000e+00, 0.00000e+00,\n",
       "        0.00000e+00],\n",
       "       [3.60010e+04, 9.00000e+00, 0.00000e+00, 0.00000e+00, 0.00000e+00,\n",
       "        0.00000e+00],\n",
       "       [4.80010e+04, 1.00000e+01, 0.00000e+00, 0.00000e+00, 0.00000e+00,\n",
       "        0.00000e+00],\n",
       "       [6.00010e+04, 6.00000e+00, 0.00000e+00, 0.00000e+00, 0.00000e+00,\n",
       "        0.00000e+00],\n",
       "       [7.20010e+04, 2.00000e+00, 0.00000e+00, 0.00000e+00, 0.00000e+00,\n",
       "        0.00000e+00],\n",
       "       [8.40010e+04, 1.00000e+00, 0.00000e+00, 0.00000e+00, 0.00000e+00,\n",
       "        0.00000e+00],\n",
       "       [9.60010e+04, 2.00000e+00, 0.00000e+00, 0.00000e+00, 0.00000e+00,\n",
       "        0.00000e+00],\n",
       "       [1.08001e+05, 5.00000e+00, 0.00000e+00, 0.00000e+00, 0.00000e+00,\n",
       "        0.00000e+00]])"
      ]
     },
     "execution_count": 24,
     "metadata": {},
     "output_type": "execute_result"
    }
   ],
   "source": [
    "print(IED_rate.shape)\n",
    "#IED_rate_nzero = np.nonzero(IED_rate)\n",
    "#m,n = np.shape(IED_rate_nzero)\n",
    "#print(m,n)\n",
    "IED_rate[0:10]"
   ]
  },
  {
   "cell_type": "code",
   "execution_count": 45,
   "id": "7ee60a40-5a30-40d1-a77a-e5503d00f7ce",
   "metadata": {},
   "outputs": [
    {
     "name": "stdout",
     "output_type": "stream",
     "text": [
      "22\n"
     ]
    },
    {
     "data": {
      "text/plain": [
       "array([      1,   60001,  120001,  180001,  240001,  300001,  360001,\n",
       "        420001,  480001,  540001,  600001,  660001,  720001,  780001,\n",
       "        840001,  900001,  960001, 1020001, 1080001, 1140001, 1200001,\n",
       "       1260001])"
      ]
     },
     "execution_count": 45,
     "metadata": {},
     "output_type": "execute_result"
    }
   ],
   "source": [
    "# calculating the rate per 5 min: every 200*60*5 = 60000 samples\n",
    "time_5min = np.arange(1,time_end,60000)\n",
    "m_5t= time_5min.shape[0]\n",
    "print(m_5t)\n",
    "time_5min"
   ]
  },
  {
   "cell_type": "code",
   "execution_count": 46,
   "id": "c71f1028-2800-4df4-8980-8613325703f4",
   "metadata": {},
   "outputs": [],
   "source": [
    "IED_rate_5min = np.zeros((m_5t))\n",
    "\n",
    "for idx, t in enumerate(time_5min[0:-2]):\n",
    "    # print(idx,t)\n",
    "    time_bin = true_IEDs_df_clean[(true_IEDs_df_clean['start']>time_5min[idx]) & (true_IEDs_df_clean['start']<= time_5min[idx+1])]\n",
    "    count, w = np.shape(time_bin)\n",
    "    #print(count)\n",
    "    IED_rate_5min[idx] =  count"
   ]
  },
  {
   "cell_type": "code",
   "execution_count": 47,
   "id": "60766a01-f11d-4ece-a6cc-9a21cffa660b",
   "metadata": {},
   "outputs": [
    {
     "data": {
      "text/plain": [
       "array([29., 16., 25.,  9.,  8., 26., 30.,  6., 19., 22., 25., 33., 37.,\n",
       "       25., 53., 60., 26., 22., 25., 58.,  0.,  0.])"
      ]
     },
     "execution_count": 47,
     "metadata": {},
     "output_type": "execute_result"
    }
   ],
   "source": [
    "IED_rate_5min"
   ]
  },
  {
   "cell_type": "code",
   "execution_count": 51,
   "id": "3563d483-f048-49ff-abaf-b0557cf86b4c",
   "metadata": {},
   "outputs": [
    {
     "data": {
      "text/plain": [
       "25.181818181818183"
      ]
     },
     "execution_count": 51,
     "metadata": {},
     "output_type": "execute_result"
    }
   ],
   "source": [
    "mean_5min = np.mean(IED_rate_5min)\n",
    "mean_5min"
   ]
  },
  {
   "cell_type": "code",
   "execution_count": 52,
   "id": "162d4c2f-2ec9-4b3e-a149-e56bf74d339f",
   "metadata": {},
   "outputs": [
    {
     "data": {
      "text/plain": [
       "5.351851851851852"
      ]
     },
     "execution_count": 52,
     "metadata": {},
     "output_type": "execute_result"
    }
   ],
   "source": [
    "mean = np.mean(IED_rate[:,1])\n",
    "mean"
   ]
  },
  {
   "cell_type": "code",
   "execution_count": 25,
   "id": "84fb4277-f181-4527-ab58-2e8c2b090fef",
   "metadata": {},
   "outputs": [
    {
     "ename": "KeyError",
     "evalue": "'IED_rate'",
     "output_type": "error",
     "traceback": [
      "\u001b[1;31m---------------------------------------------------------------------------\u001b[0m",
      "\u001b[1;31mKeyError\u001b[0m                                  Traceback (most recent call last)",
      "File \u001b[1;32m~\\anaconda3\\envs\\IED_env\\lib\\site-packages\\pandas\\core\\indexes\\base.py:3802\u001b[0m, in \u001b[0;36mIndex.get_loc\u001b[1;34m(self, key, method, tolerance)\u001b[0m\n\u001b[0;32m   3801\u001b[0m \u001b[38;5;28;01mtry\u001b[39;00m:\n\u001b[1;32m-> 3802\u001b[0m     \u001b[38;5;28;01mreturn\u001b[39;00m \u001b[38;5;28;43mself\u001b[39;49m\u001b[38;5;241;43m.\u001b[39;49m\u001b[43m_engine\u001b[49m\u001b[38;5;241;43m.\u001b[39;49m\u001b[43mget_loc\u001b[49m\u001b[43m(\u001b[49m\u001b[43mcasted_key\u001b[49m\u001b[43m)\u001b[49m\n\u001b[0;32m   3803\u001b[0m \u001b[38;5;28;01mexcept\u001b[39;00m \u001b[38;5;167;01mKeyError\u001b[39;00m \u001b[38;5;28;01mas\u001b[39;00m err:\n",
      "File \u001b[1;32m~\\anaconda3\\envs\\IED_env\\lib\\site-packages\\pandas\\_libs\\index.pyx:138\u001b[0m, in \u001b[0;36mpandas._libs.index.IndexEngine.get_loc\u001b[1;34m()\u001b[0m\n",
      "File \u001b[1;32m~\\anaconda3\\envs\\IED_env\\lib\\site-packages\\pandas\\_libs\\index.pyx:165\u001b[0m, in \u001b[0;36mpandas._libs.index.IndexEngine.get_loc\u001b[1;34m()\u001b[0m\n",
      "File \u001b[1;32mpandas\\_libs\\hashtable_class_helper.pxi:5745\u001b[0m, in \u001b[0;36mpandas._libs.hashtable.PyObjectHashTable.get_item\u001b[1;34m()\u001b[0m\n",
      "File \u001b[1;32mpandas\\_libs\\hashtable_class_helper.pxi:5753\u001b[0m, in \u001b[0;36mpandas._libs.hashtable.PyObjectHashTable.get_item\u001b[1;34m()\u001b[0m\n",
      "\u001b[1;31mKeyError\u001b[0m: 'IED_rate'",
      "\nThe above exception was the direct cause of the following exception:\n",
      "\u001b[1;31mKeyError\u001b[0m                                  Traceback (most recent call last)",
      "Cell \u001b[1;32mIn[25], line 8\u001b[0m\n\u001b[0;32m      6\u001b[0m t\u001b[38;5;241m=\u001b[39m\u001b[38;5;241m1\u001b[39m\n\u001b[0;32m      7\u001b[0m [count \u001b[38;5;28;01mfor\u001b[39;00m i \u001b[38;5;129;01min\u001b[39;00m \u001b[38;5;28mrange\u001b[39m(t\u001b[38;5;241m-\u001b[39m\u001b[38;5;241m1\u001b[39m, t\u001b[38;5;241m-\u001b[39m\u001b[38;5;241m1\u001b[39m\u001b[38;5;241m+\u001b[39m\u001b[38;5;28mint\u001b[39m(count))]\n\u001b[1;32m----> 8\u001b[0m \u001b[43mtrue_IEDs_df_clean\u001b[49m\u001b[38;5;241;43m.\u001b[39;49m\u001b[43mloc\u001b[49m\u001b[43m[\u001b[49m\u001b[43m(\u001b[49m\u001b[43mtrue_IEDs_df_clean\u001b[49m\u001b[43m[\u001b[49m\u001b[38;5;124;43m'\u001b[39;49m\u001b[38;5;124;43mstart\u001b[39;49m\u001b[38;5;124;43m'\u001b[39;49m\u001b[43m]\u001b[49m\u001b[38;5;241;43m>\u001b[39;49m\u001b[43mt\u001b[49m\u001b[43m)\u001b[49m\u001b[43m \u001b[49m\u001b[38;5;241;43m&\u001b[39;49m\u001b[43m \u001b[49m\u001b[43m(\u001b[49m\u001b[43mtrue_IEDs_df_clean\u001b[49m\u001b[43m[\u001b[49m\u001b[38;5;124;43m'\u001b[39;49m\u001b[38;5;124;43mstart\u001b[39;49m\u001b[38;5;124;43m'\u001b[39;49m\u001b[43m]\u001b[49m\u001b[38;5;241;43m<\u001b[39;49m\u001b[38;5;241;43m=\u001b[39;49m\u001b[43m \u001b[49m\u001b[43mtime\u001b[49m\u001b[43m[\u001b[49m\u001b[43mt\u001b[49m\u001b[38;5;241;43m+\u001b[39;49m\u001b[38;5;241;43m1\u001b[39;49m\u001b[43m]\u001b[49m\u001b[43m)\u001b[49m\u001b[43m,\u001b[49m\u001b[38;5;124;43m'\u001b[39;49m\u001b[38;5;124;43mIED_rate\u001b[39;49m\u001b[38;5;124;43m'\u001b[39;49m\u001b[43m]\u001b[49m\n",
      "File \u001b[1;32m~\\anaconda3\\envs\\IED_env\\lib\\site-packages\\pandas\\core\\indexing.py:1067\u001b[0m, in \u001b[0;36m_LocationIndexer.__getitem__\u001b[1;34m(self, key)\u001b[0m\n\u001b[0;32m   1065\u001b[0m     \u001b[38;5;28;01mif\u001b[39;00m \u001b[38;5;28mself\u001b[39m\u001b[38;5;241m.\u001b[39m_is_scalar_access(key):\n\u001b[0;32m   1066\u001b[0m         \u001b[38;5;28;01mreturn\u001b[39;00m \u001b[38;5;28mself\u001b[39m\u001b[38;5;241m.\u001b[39mobj\u001b[38;5;241m.\u001b[39m_get_value(\u001b[38;5;241m*\u001b[39mkey, takeable\u001b[38;5;241m=\u001b[39m\u001b[38;5;28mself\u001b[39m\u001b[38;5;241m.\u001b[39m_takeable)\n\u001b[1;32m-> 1067\u001b[0m     \u001b[38;5;28;01mreturn\u001b[39;00m \u001b[38;5;28;43mself\u001b[39;49m\u001b[38;5;241;43m.\u001b[39;49m\u001b[43m_getitem_tuple\u001b[49m\u001b[43m(\u001b[49m\u001b[43mkey\u001b[49m\u001b[43m)\u001b[49m\n\u001b[0;32m   1068\u001b[0m \u001b[38;5;28;01melse\u001b[39;00m:\n\u001b[0;32m   1069\u001b[0m     \u001b[38;5;66;03m# we by definition only have the 0th axis\u001b[39;00m\n\u001b[0;32m   1070\u001b[0m     axis \u001b[38;5;241m=\u001b[39m \u001b[38;5;28mself\u001b[39m\u001b[38;5;241m.\u001b[39maxis \u001b[38;5;129;01mor\u001b[39;00m \u001b[38;5;241m0\u001b[39m\n",
      "File \u001b[1;32m~\\anaconda3\\envs\\IED_env\\lib\\site-packages\\pandas\\core\\indexing.py:1247\u001b[0m, in \u001b[0;36m_LocIndexer._getitem_tuple\u001b[1;34m(self, tup)\u001b[0m\n\u001b[0;32m   1245\u001b[0m \u001b[38;5;28;01mwith\u001b[39;00m suppress(IndexingError):\n\u001b[0;32m   1246\u001b[0m     tup \u001b[38;5;241m=\u001b[39m \u001b[38;5;28mself\u001b[39m\u001b[38;5;241m.\u001b[39m_expand_ellipsis(tup)\n\u001b[1;32m-> 1247\u001b[0m     \u001b[38;5;28;01mreturn\u001b[39;00m \u001b[38;5;28;43mself\u001b[39;49m\u001b[38;5;241;43m.\u001b[39;49m\u001b[43m_getitem_lowerdim\u001b[49m\u001b[43m(\u001b[49m\u001b[43mtup\u001b[49m\u001b[43m)\u001b[49m\n\u001b[0;32m   1249\u001b[0m \u001b[38;5;66;03m# no multi-index, so validate all of the indexers\u001b[39;00m\n\u001b[0;32m   1250\u001b[0m tup \u001b[38;5;241m=\u001b[39m \u001b[38;5;28mself\u001b[39m\u001b[38;5;241m.\u001b[39m_validate_tuple_indexer(tup)\n",
      "File \u001b[1;32m~\\anaconda3\\envs\\IED_env\\lib\\site-packages\\pandas\\core\\indexing.py:967\u001b[0m, in \u001b[0;36m_LocationIndexer._getitem_lowerdim\u001b[1;34m(self, tup)\u001b[0m\n\u001b[0;32m    963\u001b[0m \u001b[38;5;28;01mfor\u001b[39;00m i, key \u001b[38;5;129;01min\u001b[39;00m \u001b[38;5;28menumerate\u001b[39m(tup):\n\u001b[0;32m    964\u001b[0m     \u001b[38;5;28;01mif\u001b[39;00m is_label_like(key):\n\u001b[0;32m    965\u001b[0m         \u001b[38;5;66;03m# We don't need to check for tuples here because those are\u001b[39;00m\n\u001b[0;32m    966\u001b[0m         \u001b[38;5;66;03m#  caught by the _is_nested_tuple_indexer check above.\u001b[39;00m\n\u001b[1;32m--> 967\u001b[0m         section \u001b[38;5;241m=\u001b[39m \u001b[38;5;28;43mself\u001b[39;49m\u001b[38;5;241;43m.\u001b[39;49m\u001b[43m_getitem_axis\u001b[49m\u001b[43m(\u001b[49m\u001b[43mkey\u001b[49m\u001b[43m,\u001b[49m\u001b[43m \u001b[49m\u001b[43maxis\u001b[49m\u001b[38;5;241;43m=\u001b[39;49m\u001b[43mi\u001b[49m\u001b[43m)\u001b[49m\n\u001b[0;32m    969\u001b[0m         \u001b[38;5;66;03m# We should never have a scalar section here, because\u001b[39;00m\n\u001b[0;32m    970\u001b[0m         \u001b[38;5;66;03m#  _getitem_lowerdim is only called after a check for\u001b[39;00m\n\u001b[0;32m    971\u001b[0m         \u001b[38;5;66;03m#  is_scalar_access, which that would be.\u001b[39;00m\n\u001b[0;32m    972\u001b[0m         \u001b[38;5;28;01mif\u001b[39;00m section\u001b[38;5;241m.\u001b[39mndim \u001b[38;5;241m==\u001b[39m \u001b[38;5;28mself\u001b[39m\u001b[38;5;241m.\u001b[39mndim:\n\u001b[0;32m    973\u001b[0m             \u001b[38;5;66;03m# we're in the middle of slicing through a MultiIndex\u001b[39;00m\n\u001b[0;32m    974\u001b[0m             \u001b[38;5;66;03m# revise the key wrt to `section` by inserting an _NS\u001b[39;00m\n",
      "File \u001b[1;32m~\\anaconda3\\envs\\IED_env\\lib\\site-packages\\pandas\\core\\indexing.py:1312\u001b[0m, in \u001b[0;36m_LocIndexer._getitem_axis\u001b[1;34m(self, key, axis)\u001b[0m\n\u001b[0;32m   1310\u001b[0m \u001b[38;5;66;03m# fall thru to straight lookup\u001b[39;00m\n\u001b[0;32m   1311\u001b[0m \u001b[38;5;28mself\u001b[39m\u001b[38;5;241m.\u001b[39m_validate_key(key, axis)\n\u001b[1;32m-> 1312\u001b[0m \u001b[38;5;28;01mreturn\u001b[39;00m \u001b[38;5;28;43mself\u001b[39;49m\u001b[38;5;241;43m.\u001b[39;49m\u001b[43m_get_label\u001b[49m\u001b[43m(\u001b[49m\u001b[43mkey\u001b[49m\u001b[43m,\u001b[49m\u001b[43m \u001b[49m\u001b[43maxis\u001b[49m\u001b[38;5;241;43m=\u001b[39;49m\u001b[43maxis\u001b[49m\u001b[43m)\u001b[49m\n",
      "File \u001b[1;32m~\\anaconda3\\envs\\IED_env\\lib\\site-packages\\pandas\\core\\indexing.py:1260\u001b[0m, in \u001b[0;36m_LocIndexer._get_label\u001b[1;34m(self, label, axis)\u001b[0m\n\u001b[0;32m   1258\u001b[0m \u001b[38;5;28;01mdef\u001b[39;00m \u001b[38;5;21m_get_label\u001b[39m(\u001b[38;5;28mself\u001b[39m, label, axis: \u001b[38;5;28mint\u001b[39m):\n\u001b[0;32m   1259\u001b[0m     \u001b[38;5;66;03m# GH#5567 this will fail if the label is not present in the axis.\u001b[39;00m\n\u001b[1;32m-> 1260\u001b[0m     \u001b[38;5;28;01mreturn\u001b[39;00m \u001b[38;5;28;43mself\u001b[39;49m\u001b[38;5;241;43m.\u001b[39;49m\u001b[43mobj\u001b[49m\u001b[38;5;241;43m.\u001b[39;49m\u001b[43mxs\u001b[49m\u001b[43m(\u001b[49m\u001b[43mlabel\u001b[49m\u001b[43m,\u001b[49m\u001b[43m \u001b[49m\u001b[43maxis\u001b[49m\u001b[38;5;241;43m=\u001b[39;49m\u001b[43maxis\u001b[49m\u001b[43m)\u001b[49m\n",
      "File \u001b[1;32m~\\anaconda3\\envs\\IED_env\\lib\\site-packages\\pandas\\core\\generic.py:4041\u001b[0m, in \u001b[0;36mNDFrame.xs\u001b[1;34m(self, key, axis, level, drop_level)\u001b[0m\n\u001b[0;32m   4039\u001b[0m \u001b[38;5;28;01mif\u001b[39;00m axis \u001b[38;5;241m==\u001b[39m \u001b[38;5;241m1\u001b[39m:\n\u001b[0;32m   4040\u001b[0m     \u001b[38;5;28;01mif\u001b[39;00m drop_level:\n\u001b[1;32m-> 4041\u001b[0m         \u001b[38;5;28;01mreturn\u001b[39;00m \u001b[38;5;28;43mself\u001b[39;49m\u001b[43m[\u001b[49m\u001b[43mkey\u001b[49m\u001b[43m]\u001b[49m\n\u001b[0;32m   4042\u001b[0m     index \u001b[38;5;241m=\u001b[39m \u001b[38;5;28mself\u001b[39m\u001b[38;5;241m.\u001b[39mcolumns\n\u001b[0;32m   4043\u001b[0m \u001b[38;5;28;01melse\u001b[39;00m:\n",
      "File \u001b[1;32m~\\anaconda3\\envs\\IED_env\\lib\\site-packages\\pandas\\core\\frame.py:3807\u001b[0m, in \u001b[0;36mDataFrame.__getitem__\u001b[1;34m(self, key)\u001b[0m\n\u001b[0;32m   3805\u001b[0m \u001b[38;5;28;01mif\u001b[39;00m \u001b[38;5;28mself\u001b[39m\u001b[38;5;241m.\u001b[39mcolumns\u001b[38;5;241m.\u001b[39mnlevels \u001b[38;5;241m>\u001b[39m \u001b[38;5;241m1\u001b[39m:\n\u001b[0;32m   3806\u001b[0m     \u001b[38;5;28;01mreturn\u001b[39;00m \u001b[38;5;28mself\u001b[39m\u001b[38;5;241m.\u001b[39m_getitem_multilevel(key)\n\u001b[1;32m-> 3807\u001b[0m indexer \u001b[38;5;241m=\u001b[39m \u001b[38;5;28;43mself\u001b[39;49m\u001b[38;5;241;43m.\u001b[39;49m\u001b[43mcolumns\u001b[49m\u001b[38;5;241;43m.\u001b[39;49m\u001b[43mget_loc\u001b[49m\u001b[43m(\u001b[49m\u001b[43mkey\u001b[49m\u001b[43m)\u001b[49m\n\u001b[0;32m   3808\u001b[0m \u001b[38;5;28;01mif\u001b[39;00m is_integer(indexer):\n\u001b[0;32m   3809\u001b[0m     indexer \u001b[38;5;241m=\u001b[39m [indexer]\n",
      "File \u001b[1;32m~\\anaconda3\\envs\\IED_env\\lib\\site-packages\\pandas\\core\\indexes\\base.py:3804\u001b[0m, in \u001b[0;36mIndex.get_loc\u001b[1;34m(self, key, method, tolerance)\u001b[0m\n\u001b[0;32m   3802\u001b[0m     \u001b[38;5;28;01mreturn\u001b[39;00m \u001b[38;5;28mself\u001b[39m\u001b[38;5;241m.\u001b[39m_engine\u001b[38;5;241m.\u001b[39mget_loc(casted_key)\n\u001b[0;32m   3803\u001b[0m \u001b[38;5;28;01mexcept\u001b[39;00m \u001b[38;5;167;01mKeyError\u001b[39;00m \u001b[38;5;28;01mas\u001b[39;00m err:\n\u001b[1;32m-> 3804\u001b[0m     \u001b[38;5;28;01mraise\u001b[39;00m \u001b[38;5;167;01mKeyError\u001b[39;00m(key) \u001b[38;5;28;01mfrom\u001b[39;00m \u001b[38;5;21;01merr\u001b[39;00m\n\u001b[0;32m   3805\u001b[0m \u001b[38;5;28;01mexcept\u001b[39;00m \u001b[38;5;167;01mTypeError\u001b[39;00m:\n\u001b[0;32m   3806\u001b[0m     \u001b[38;5;66;03m# If we have a listlike key, _check_indexing_error will raise\u001b[39;00m\n\u001b[0;32m   3807\u001b[0m     \u001b[38;5;66;03m#  InvalidIndexError. Otherwise we fall through and re-raise\u001b[39;00m\n\u001b[0;32m   3808\u001b[0m     \u001b[38;5;66;03m#  the TypeError.\u001b[39;00m\n\u001b[0;32m   3809\u001b[0m     \u001b[38;5;28mself\u001b[39m\u001b[38;5;241m.\u001b[39m_check_indexing_error(key)\n",
      "\u001b[1;31mKeyError\u001b[0m: 'IED_rate'"
     ]
    }
   ],
   "source": [
    "#true_IEDs_df_clean.loc[:,'IED_rate'] = IED_rate\n",
    "#true_IEDs_df_clean.head(100)\n",
    "time[0]\n",
    "count = IED_rate[0,1]\n",
    "count\n",
    "t=1\n",
    "[count for i in range(t-1, t-1+int(count))]\n",
    "true_IEDs_df_clean.loc[(true_IEDs_df_clean['start']>t) & (true_IEDs_df_clean['start']<= time[t+1]),'IED_rate']"
   ]
  },
  {
   "cell_type": "code",
   "execution_count": null,
   "id": "12f909e0-0b57-4119-86af-2a11ffcca357",
   "metadata": {},
   "outputs": [],
   "source": [
    "for t in time:\n",
    "    print(t)\n",
    "    count = int(IED_rate[t-1,1])\n",
    "    print(count)\n",
    "    true_IEDs_df_clean.loc[(true_IEDs_df_clean['start']>t) & (true_IEDs_df_clean['start']<= time[t+1]),'IED_rate']=[count for i in range (t, t+count)]"
   ]
  },
  {
   "cell_type": "code",
   "execution_count": null,
   "id": "880e5461-9e52-4d93-8b45-dd915adfc9ee",
   "metadata": {},
   "outputs": [],
   "source": [
    "true_IEDs_df[true_IEDs_df['chan']==42]"
   ]
  },
  {
   "cell_type": "code",
   "execution_count": null,
   "id": "c2f70d4b-2208-4555-bb67-cdfb88e34dee",
   "metadata": {},
   "outputs": [],
   "source": [
    "count = np.count_nonzero(true_IEDs_df[true_IEDs_df['chan']==42])\n",
    "count"
   ]
  },
  {
   "cell_type": "markdown",
   "id": "0af181fc-5fc2-482a-91ef-31eabe4bab6d",
   "metadata": {},
   "source": [
    "##  3. Plot histograms with different time size bins for each session\n"
   ]
  },
  {
   "cell_type": "code",
   "execution_count": 48,
   "id": "cb9c28f9-eaee-4c6d-8d6d-5417ae8e228f",
   "metadata": {},
   "outputs": [
    {
     "data": {
      "image/png": "[encoded data removed]",
      "text/plain": [
       "<Figure size 800x400 with 1 Axes>"
      ]
     },
     "metadata": {},
     "output_type": "display_data"
    }
   ],
   "source": [
    "plt.figure(figsize=(8,4))\n",
    "plt.plot(IED_rate[:,0]/12000,IED_rate[:,1]);\n",
    "plt.xlabel('time(min)');\n",
    "plt.ylabel('IED rate/min');\n",
    "plt.title(str(sessions_flickerneuro.loc[0,'Subject_ID']));"
   ]
  },
  {
   "cell_type": "code",
   "execution_count": 26,
   "id": "ae5f864a-38be-4d5b-9714-20e7efb1431c",
   "metadata": {},
   "outputs": [
    {
     "data": {
      "image/png": "[encoded data removed]",
      "text/plain": [
       "<Figure size 800x400 with 1 Axes>"
      ]
     },
     "metadata": {},
     "output_type": "display_data"
    }
   ],
   "source": [
    "plt.figure(figsize=(8,4))\n",
    "plt.hist(IED_rate[:,1],bins=10);\n",
    "plt.ylabel('frequency');\n",
    "plt.xlabel('IED rate/min');\n",
    "plt.title(str(sessions_flickerneuro.loc[0,'Subject_ID']));"
   ]
  },
  {
   "cell_type": "code",
   "execution_count": 27,
   "id": "3984fe0e-5fcd-4cef-bcc9-4f0296a71a81",
   "metadata": {},
   "outputs": [
    {
     "data": {
      "text/plain": [
       "<Axes: xlabel='start', ylabel='chan'>"
      ]
     },
     "execution_count": 27,
     "metadata": {},
     "output_type": "execute_result"
    },
    {
     "data": {
      "image/png": "[encoded data removed]",
      "text/plain": [
       "<Figure size 640x480 with 1 Axes>"
      ]
     },
     "metadata": {},
     "output_type": "display_data"
    }
   ],
   "source": [
    "true_IEDs_df_clean.plot.scatter(x='start',y='chan')"
   ]
  },
  {
   "cell_type": "code",
   "execution_count": 28,
   "id": "1d8826db-6ec1-4fcd-8d52-8f8019d5385f",
   "metadata": {},
   "outputs": [
    {
     "data": {
      "text/html": [
       "<div>\n",
       "<style scoped>\n",
       "    .dataframe tbody tr th:only-of-type {\n",
       "        vertical-align: middle;\n",
       "    }\n",
       "\n",
       "    .dataframe tbody tr th {\n",
       "        vertical-align: top;\n",
       "    }\n",
       "\n",
       "    .dataframe thead th {\n",
       "        text-align: right;\n",
       "    }\n",
       "</style>\n",
       "<table border=\"1\" class=\"dataframe\">\n",
       "  <thead>\n",
       "    <tr style=\"text-align: right;\">\n",
       "      <th></th>\n",
       "      <th>start</th>\n",
       "      <th>chan</th>\n",
       "    </tr>\n",
       "  </thead>\n",
       "  <tbody>\n",
       "    <tr>\n",
       "      <th>88</th>\n",
       "      <td>309785</td>\n",
       "      <td>42</td>\n",
       "    </tr>\n",
       "    <tr>\n",
       "      <th>89</th>\n",
       "      <td>311324</td>\n",
       "      <td>42</td>\n",
       "    </tr>\n",
       "    <tr>\n",
       "      <th>90</th>\n",
       "      <td>312067</td>\n",
       "      <td>42</td>\n",
       "    </tr>\n",
       "    <tr>\n",
       "      <th>91</th>\n",
       "      <td>315651</td>\n",
       "      <td>42</td>\n",
       "    </tr>\n",
       "    <tr>\n",
       "      <th>92</th>\n",
       "      <td>315947</td>\n",
       "      <td>42</td>\n",
       "    </tr>\n",
       "    <tr>\n",
       "      <th>...</th>\n",
       "      <td>...</td>\n",
       "      <td>...</td>\n",
       "    </tr>\n",
       "    <tr>\n",
       "      <th>553</th>\n",
       "      <td>1194815</td>\n",
       "      <td>42</td>\n",
       "    </tr>\n",
       "    <tr>\n",
       "      <th>562</th>\n",
       "      <td>1199795</td>\n",
       "      <td>42</td>\n",
       "    </tr>\n",
       "    <tr>\n",
       "      <th>563</th>\n",
       "      <td>1200704</td>\n",
       "      <td>42</td>\n",
       "    </tr>\n",
       "    <tr>\n",
       "      <th>565</th>\n",
       "      <td>1203426</td>\n",
       "      <td>42</td>\n",
       "    </tr>\n",
       "    <tr>\n",
       "      <th>573</th>\n",
       "      <td>1216811</td>\n",
       "      <td>42</td>\n",
       "    </tr>\n",
       "  </tbody>\n",
       "</table>\n",
       "<p>133 rows × 2 columns</p>\n",
       "</div>"
      ],
      "text/plain": [
       "       start  chan\n",
       "88    309785    42\n",
       "89    311324    42\n",
       "90    312067    42\n",
       "91    315651    42\n",
       "92    315947    42\n",
       "..       ...   ...\n",
       "553  1194815    42\n",
       "562  1199795    42\n",
       "563  1200704    42\n",
       "565  1203426    42\n",
       "573  1216811    42\n",
       "\n",
       "[133 rows x 2 columns]"
      ]
     },
     "execution_count": 28,
     "metadata": {},
     "output_type": "execute_result"
    }
   ],
   "source": [
    "true_IEDs_df_clean[true_IEDs_df_clean['chan']==42]"
   ]
  },
  {
   "cell_type": "code",
   "execution_count": 49,
   "id": "a59322c2-143c-43e3-b04e-9befa7ad38b0",
   "metadata": {},
   "outputs": [
    {
     "data": {
      "image/png": "[encoded data removed]",
      "text/plain": [
       "<Figure size 800x400 with 1 Axes>"
      ]
     },
     "metadata": {},
     "output_type": "display_data"
    }
   ],
   "source": [
    "plt.figure(figsize=(8,4))\n",
    "plt.plot(time_5min/60000,IED_rate_5min);\n",
    "plt.xlabel('time(5 min)');\n",
    "plt.ylabel('IED rate/min');\n",
    "plt.title(str(sessions_flickerneuro.loc[0,'Subject_ID']));"
   ]
  },
  {
   "cell_type": "markdown",
   "id": "5e3e842b-ccbc-49ca-88c0-d8913166347d",
   "metadata": {},
   "source": [
    "## 4. convert each step into a function and run in a loop for all of the selected subject's sessions\n"
   ]
  },
  {
   "cell_type": "code",
   "execution_count": null,
   "id": "cd8fff5e-67cf-4695-ac8f-9da760f20d00",
   "metadata": {},
   "outputs": [],
   "source": []
  }
 ],
 "metadata": {
  "kernelspec": {
   "display_name": "Python 3 (ipykernel)",
   "language": "python",
   "name": "python3"
  },
  "language_info": {
   "codemirror_mode": {
    "name": "ipython",
    "version": 3
   },
   "file_extension": ".py",
   "mimetype": "text/x-python",
   "name": "python",
   "nbconvert_exporter": "python",
   "pygments_lexer": "ipython3",
   "version": "3.9.16"
  }
 },
 "nbformat": 4,
 "nbformat_minor": 5
}
