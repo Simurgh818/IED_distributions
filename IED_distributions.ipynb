{
 "cells": [
  {
   "cell_type": "markdown",
   "id": "670fadc1-6e4b-451f-a6d8-2d9c9c6ad8e9",
   "metadata": {},
   "source": [
    "# IED distributions during flicker sessions\n",
    "\n",
    "### Sina Dabiri\n"
   ]
  },
  {
   "cell_type": "code",
   "execution_count": 1,
   "id": "a89c3cc8-8855-43de-b1cb-fdb5265c4659",
   "metadata": {},
   "outputs": [],
   "source": [
    "import numpy as np\n",
    "import matplotlib\n",
    "from matplotlib import pyplot as plt\n",
    "import seaborn as sns\n",
    "import pandas as pd\n",
    "import os"
   ]
  },
  {
   "cell_type": "markdown",
   "id": "0a2db3d0-7598-4616-bdf0-8a47924f8b62",
   "metadata": {},
   "source": [
    "## 1. select which subject's data to use\n",
    "Check excel sheet to see which subjects to include in IED histogram analysis\n",
    "FlickerStudyMetadata.xlsx"
   ]
  },
  {
   "cell_type": "code",
   "execution_count": 2,
   "id": "8a942346-b7f1-4293-9960-7f7ecc88e7a5",
   "metadata": {},
   "outputs": [],
   "source": [
    "path=\"Y:\\FlickerStudyMetadata.xlsx\"\n",
    "FlickerStudy_df = pd.read_excel(path)"
   ]
  },
  {
   "cell_type": "code",
   "execution_count": 3,
   "id": "6f129c19-a5b0-448d-818b-6ff7420ad1e0",
   "metadata": {},
   "outputs": [
    {
     "data": {
      "text/html": [
       "<div>\n",
       "<style scoped>\n",
       "    .dataframe tbody tr th:only-of-type {\n",
       "        vertical-align: middle;\n",
       "    }\n",
       "\n",
       "    .dataframe tbody tr th {\n",
       "        vertical-align: top;\n",
       "    }\n",
       "\n",
       "    .dataframe thead th {\n",
       "        text-align: right;\n",
       "    }\n",
       "</style>\n",
       "<table border=\"1\" class=\"dataframe\">\n",
       "  <thead>\n",
       "    <tr style=\"text-align: right;\">\n",
       "      <th></th>\n",
       "      <th>Subject_ID</th>\n",
       "      <th>Experiment</th>\n",
       "      <th>Session</th>\n",
       "      <th>Session_version</th>\n",
       "      <th>Completed?</th>\n",
       "      <th>Number of sessions within experiment</th>\n",
       "      <th>Include in analysis?</th>\n",
       "      <th>Brightness lux 1 (40Hz AV)- left</th>\n",
       "      <th>Brightness lux 2 (40Hz AV)- right</th>\n",
       "      <th>Average brightness</th>\n",
       "      <th>Volume dBA 1 (40Hz AV)- left</th>\n",
       "      <th>Volume dBA 2 (40Hz AV)- right</th>\n",
       "      <th>Average Volume</th>\n",
       "      <th>Did occluded?</th>\n",
       "      <th>Single unit recording?</th>\n",
       "      <th>Number of single units</th>\n",
       "      <th>Location of single units</th>\n",
       "      <th>AEDs taken on day of testing, before testing</th>\n",
       "      <th>Relevant notes</th>\n",
       "    </tr>\n",
       "  </thead>\n",
       "  <tbody>\n",
       "    <tr>\n",
       "      <th>0</th>\n",
       "      <td>FL000</td>\n",
       "      <td>flickerneuro</td>\n",
       "      <td>1</td>\n",
       "      <td>NaN</td>\n",
       "      <td>1</td>\n",
       "      <td>6</td>\n",
       "      <td>1</td>\n",
       "      <td>162</td>\n",
       "      <td>163</td>\n",
       "      <td>162.5</td>\n",
       "      <td>73.9</td>\n",
       "      <td>77.2</td>\n",
       "      <td>75.55</td>\n",
       "      <td>1</td>\n",
       "      <td>0</td>\n",
       "      <td>NaN</td>\n",
       "      <td>NaN</td>\n",
       "      <td>Lamotrigine (300mg); Levetiracetam (750mg); Zo...</td>\n",
       "      <td>Occluded condition was 40Hz-AV; any other notes?</td>\n",
       "    </tr>\n",
       "    <tr>\n",
       "      <th>1</th>\n",
       "      <td>FL001</td>\n",
       "      <td>flickerneuro</td>\n",
       "      <td>1</td>\n",
       "      <td>NaN</td>\n",
       "      <td>1</td>\n",
       "      <td>6</td>\n",
       "      <td>1</td>\n",
       "      <td>200</td>\n",
       "      <td>197</td>\n",
       "      <td>198.5</td>\n",
       "      <td>81.4</td>\n",
       "      <td>83.5</td>\n",
       "      <td>82.45</td>\n",
       "      <td>0</td>\n",
       "      <td>1</td>\n",
       "      <td>11</td>\n",
       "      <td>mid-hippocampus, posterior-cingulate</td>\n",
       "      <td>Lamotrigine (300mg); Levetiracetam (2000mg); T...</td>\n",
       "      <td>NaN</td>\n",
       "    </tr>\n",
       "    <tr>\n",
       "      <th>2</th>\n",
       "      <td>FL002</td>\n",
       "      <td>flickerneuro</td>\n",
       "      <td>1</td>\n",
       "      <td>NaN</td>\n",
       "      <td>1</td>\n",
       "      <td>6</td>\n",
       "      <td>1</td>\n",
       "      <td>13</td>\n",
       "      <td>14</td>\n",
       "      <td>13.5</td>\n",
       "      <td>82.4</td>\n",
       "      <td>83.4</td>\n",
       "      <td>82.90</td>\n",
       "      <td>1</td>\n",
       "      <td>0</td>\n",
       "      <td>NaN</td>\n",
       "      <td>NaN</td>\n",
       "      <td>Lamotrigine (200mg).</td>\n",
       "      <td>NaN</td>\n",
       "    </tr>\n",
       "    <tr>\n",
       "      <th>3</th>\n",
       "      <td>FL003</td>\n",
       "      <td>flickerneuro</td>\n",
       "      <td>1</td>\n",
       "      <td>NaN</td>\n",
       "      <td>1</td>\n",
       "      <td>6</td>\n",
       "      <td>1</td>\n",
       "      <td>48</td>\n",
       "      <td>50</td>\n",
       "      <td>49.0</td>\n",
       "      <td>79.1</td>\n",
       "      <td>77.5</td>\n",
       "      <td>78.30</td>\n",
       "      <td>1</td>\n",
       "      <td>0</td>\n",
       "      <td>NaN</td>\n",
       "      <td>NaN</td>\n",
       "      <td>Lamotrigine (75mg); Levetiracetam (250mg).</td>\n",
       "      <td>NaN</td>\n",
       "    </tr>\n",
       "    <tr>\n",
       "      <th>4</th>\n",
       "      <td>FL003</td>\n",
       "      <td>spep</td>\n",
       "      <td>1</td>\n",
       "      <td>NaN</td>\n",
       "      <td>1</td>\n",
       "      <td>NaN</td>\n",
       "      <td>1</td>\n",
       "      <td>709</td>\n",
       "      <td>720</td>\n",
       "      <td>714.5</td>\n",
       "      <td>91.7</td>\n",
       "      <td>93.4</td>\n",
       "      <td>92.55</td>\n",
       "      <td>1</td>\n",
       "      <td>0</td>\n",
       "      <td>NaN</td>\n",
       "      <td>NaN</td>\n",
       "      <td>None.</td>\n",
       "      <td>NaN</td>\n",
       "    </tr>\n",
       "  </tbody>\n",
       "</table>\n",
       "</div>"
      ],
      "text/plain": [
       "  Subject_ID    Experiment  Session Session_version  Completed?  \\\n",
       "0      FL000  flickerneuro        1             NaN           1   \n",
       "1      FL001  flickerneuro        1             NaN           1   \n",
       "2      FL002  flickerneuro        1             NaN           1   \n",
       "3      FL003  flickerneuro        1             NaN           1   \n",
       "4      FL003          spep        1             NaN           1   \n",
       "\n",
       "  Number of sessions within experiment  Include in analysis?  \\\n",
       "0                                    6                     1   \n",
       "1                                    6                     1   \n",
       "2                                    6                     1   \n",
       "3                                    6                     1   \n",
       "4                                  NaN                     1   \n",
       "\n",
       "  Brightness lux 1 (40Hz AV)- left Brightness lux 2 (40Hz AV)- right  \\\n",
       "0                              162                               163   \n",
       "1                              200                               197   \n",
       "2                               13                                14   \n",
       "3                               48                                50   \n",
       "4                              709                               720   \n",
       "\n",
       "   Average brightness  Volume dBA 1 (40Hz AV)- left  \\\n",
       "0               162.5                          73.9   \n",
       "1               198.5                          81.4   \n",
       "2                13.5                          82.4   \n",
       "3                49.0                          79.1   \n",
       "4               714.5                          91.7   \n",
       "\n",
       "   Volume dBA 2 (40Hz AV)- right  Average Volume  Did occluded?  \\\n",
       "0                           77.2           75.55              1   \n",
       "1                           83.5           82.45              0   \n",
       "2                           83.4           82.90              1   \n",
       "3                           77.5           78.30              1   \n",
       "4                           93.4           92.55              1   \n",
       "\n",
       "   Single unit recording? Number of single units  \\\n",
       "0                       0                    NaN   \n",
       "1                       1                     11   \n",
       "2                       0                    NaN   \n",
       "3                       0                    NaN   \n",
       "4                       0                    NaN   \n",
       "\n",
       "               Location of single units  \\\n",
       "0                                   NaN   \n",
       "1  mid-hippocampus, posterior-cingulate   \n",
       "2                                   NaN   \n",
       "3                                   NaN   \n",
       "4                                   NaN   \n",
       "\n",
       "        AEDs taken on day of testing, before testing  \\\n",
       "0  Lamotrigine (300mg); Levetiracetam (750mg); Zo...   \n",
       "1  Lamotrigine (300mg); Levetiracetam (2000mg); T...   \n",
       "2                               Lamotrigine (200mg).   \n",
       "3         Lamotrigine (75mg); Levetiracetam (250mg).   \n",
       "4                                              None.   \n",
       "\n",
       "                                     Relevant notes  \n",
       "0  Occluded condition was 40Hz-AV; any other notes?  \n",
       "1                                               NaN  \n",
       "2                                               NaN  \n",
       "3                                               NaN  \n",
       "4                                               NaN  "
      ]
     },
     "execution_count": 3,
     "metadata": {},
     "output_type": "execute_result"
    }
   ],
   "source": [
    "FlickerStudy_df.head()"
   ]
  },
  {
   "cell_type": "code",
   "execution_count": 4,
   "id": "1292ffa4-59c9-4ef2-8ac6-32614d0cf957",
   "metadata": {},
   "outputs": [
    {
     "data": {
      "text/html": [
       "<div>\n",
       "<style scoped>\n",
       "    .dataframe tbody tr th:only-of-type {\n",
       "        vertical-align: middle;\n",
       "    }\n",
       "\n",
       "    .dataframe tbody tr th {\n",
       "        vertical-align: top;\n",
       "    }\n",
       "\n",
       "    .dataframe thead th {\n",
       "        text-align: right;\n",
       "    }\n",
       "</style>\n",
       "<table border=\"1\" class=\"dataframe\">\n",
       "  <thead>\n",
       "    <tr style=\"text-align: right;\">\n",
       "      <th></th>\n",
       "      <th>Subject_ID</th>\n",
       "      <th>Experiment</th>\n",
       "      <th>Session</th>\n",
       "    </tr>\n",
       "  </thead>\n",
       "  <tbody>\n",
       "    <tr>\n",
       "      <th>0</th>\n",
       "      <td>FL000</td>\n",
       "      <td>flickerneuro</td>\n",
       "      <td>1</td>\n",
       "    </tr>\n",
       "    <tr>\n",
       "      <th>1</th>\n",
       "      <td>FL001</td>\n",
       "      <td>flickerneuro</td>\n",
       "      <td>1</td>\n",
       "    </tr>\n",
       "    <tr>\n",
       "      <th>2</th>\n",
       "      <td>FL002</td>\n",
       "      <td>flickerneuro</td>\n",
       "      <td>1</td>\n",
       "    </tr>\n",
       "    <tr>\n",
       "      <th>3</th>\n",
       "      <td>FL003</td>\n",
       "      <td>flickerneuro</td>\n",
       "      <td>1</td>\n",
       "    </tr>\n",
       "    <tr>\n",
       "      <th>6</th>\n",
       "      <td>FL005</td>\n",
       "      <td>flickerneuro</td>\n",
       "      <td>1</td>\n",
       "    </tr>\n",
       "    <tr>\n",
       "      <th>9</th>\n",
       "      <td>FL007</td>\n",
       "      <td>flickerneuro</td>\n",
       "      <td>1</td>\n",
       "    </tr>\n",
       "    <tr>\n",
       "      <th>12</th>\n",
       "      <td>FL009</td>\n",
       "      <td>flickerneuro</td>\n",
       "      <td>1</td>\n",
       "    </tr>\n",
       "    <tr>\n",
       "      <th>14</th>\n",
       "      <td>FL010</td>\n",
       "      <td>flickerneuro</td>\n",
       "      <td>1</td>\n",
       "    </tr>\n",
       "    <tr>\n",
       "      <th>15</th>\n",
       "      <td>FL011</td>\n",
       "      <td>flickerneuro</td>\n",
       "      <td>1</td>\n",
       "    </tr>\n",
       "    <tr>\n",
       "      <th>17</th>\n",
       "      <td>FL012</td>\n",
       "      <td>flickerneuro</td>\n",
       "      <td>1</td>\n",
       "    </tr>\n",
       "    <tr>\n",
       "      <th>21</th>\n",
       "      <td>FL014</td>\n",
       "      <td>flickerneuro</td>\n",
       "      <td>1</td>\n",
       "    </tr>\n",
       "    <tr>\n",
       "      <th>22</th>\n",
       "      <td>FL014</td>\n",
       "      <td>flickerneuro</td>\n",
       "      <td>2</td>\n",
       "    </tr>\n",
       "    <tr>\n",
       "      <th>25</th>\n",
       "      <td>FL016</td>\n",
       "      <td>flickerneuro</td>\n",
       "      <td>1</td>\n",
       "    </tr>\n",
       "    <tr>\n",
       "      <th>33</th>\n",
       "      <td>FL021</td>\n",
       "      <td>flickerneuro</td>\n",
       "      <td>1</td>\n",
       "    </tr>\n",
       "  </tbody>\n",
       "</table>\n",
       "</div>"
      ],
      "text/plain": [
       "   Subject_ID    Experiment  Session\n",
       "0       FL000  flickerneuro        1\n",
       "1       FL001  flickerneuro        1\n",
       "2       FL002  flickerneuro        1\n",
       "3       FL003  flickerneuro        1\n",
       "6       FL005  flickerneuro        1\n",
       "9       FL007  flickerneuro        1\n",
       "12      FL009  flickerneuro        1\n",
       "14      FL010  flickerneuro        1\n",
       "15      FL011  flickerneuro        1\n",
       "17      FL012  flickerneuro        1\n",
       "21      FL014  flickerneuro        1\n",
       "22      FL014  flickerneuro        2\n",
       "25      FL016  flickerneuro        1\n",
       "33      FL021  flickerneuro        1"
      ]
     },
     "execution_count": 4,
     "metadata": {},
     "output_type": "execute_result"
    }
   ],
   "source": [
    "# Filtering for subjects to include in analysis \n",
    "sessions = FlickerStudy_df.loc[FlickerStudy_df['Include in analysis?']>0 ,['Subject_ID','Experiment','Session']]\n",
    "sessions_flickerneuro = sessions.loc[FlickerStudy_df['Experiment']=='flickerneuro']\n",
    "sessions_flickerneuro\n"
   ]
  },
  {
   "cell_type": "markdown",
   "id": "044cc497-cc07-496b-95bd-31e7bf617fb2",
   "metadata": {},
   "source": [
    "## 2. Import \"All spike\" tables for each session into conda dataframe\n"
   ]
  },
  {
   "cell_type": "code",
   "execution_count": 5,
   "id": "6fe12e68-5e90-4188-a8d7-5cbcfbd2d315",
   "metadata": {},
   "outputs": [
    {
     "data": {
      "text/plain": [
       "14"
      ]
     },
     "execution_count": 5,
     "metadata": {},
     "output_type": "execute_result"
    }
   ],
   "source": [
    "rows, col = sessions_flickerneuro.shape\n",
    "rows"
   ]
  },
  {
   "cell_type": "code",
   "execution_count": 33,
   "id": "9943c7b2-6acb-460b-8fc2-c217a60bbfa3",
   "metadata": {},
   "outputs": [],
   "source": [
    "# loop through to get all of the paths to the \"All spike\" xl files\n",
    "\n",
    "IED_path=[\"\"]*rows\n",
    "for p in range(rows):\n",
    "    idx = sessions_flickerneuro.index[p]\n",
    "    subject_path = str(sessions_flickerneuro.loc[idx,'Subject_ID'])+ \"/task-flickerneuro/ses-0\" + str(sessions_flickerneuro.loc[idx,'Session'])\n",
    "    IED_path[p]= \"Y:/stg-preproc/sub-\"+ subject_path + \"/IED-preproc/\""
   ]
  },
  {
   "cell_type": "code",
   "execution_count": 34,
   "id": "1e96b96a-9659-4254-bed9-b956e43b65b8",
   "metadata": {},
   "outputs": [
    {
     "data": {
      "text/plain": [
       "['Y:/stg-preproc/sub-FL000/task-flickerneuro/ses-01/IED-preproc/',\n",
       " 'Y:/stg-preproc/sub-FL001/task-flickerneuro/ses-01/IED-preproc/',\n",
       " 'Y:/stg-preproc/sub-FL002/task-flickerneuro/ses-01/IED-preproc/',\n",
       " 'Y:/stg-preproc/sub-FL003/task-flickerneuro/ses-01/IED-preproc/',\n",
       " 'Y:/stg-preproc/sub-FL005/task-flickerneuro/ses-01/IED-preproc/',\n",
       " 'Y:/stg-preproc/sub-FL007/task-flickerneuro/ses-01/IED-preproc/',\n",
       " 'Y:/stg-preproc/sub-FL009/task-flickerneuro/ses-01/IED-preproc/',\n",
       " 'Y:/stg-preproc/sub-FL010/task-flickerneuro/ses-01/IED-preproc/',\n",
       " 'Y:/stg-preproc/sub-FL011/task-flickerneuro/ses-01/IED-preproc/',\n",
       " 'Y:/stg-preproc/sub-FL012/task-flickerneuro/ses-01/IED-preproc/',\n",
       " 'Y:/stg-preproc/sub-FL014/task-flickerneuro/ses-01/IED-preproc/',\n",
       " 'Y:/stg-preproc/sub-FL014/task-flickerneuro/ses-02/IED-preproc/',\n",
       " 'Y:/stg-preproc/sub-FL016/task-flickerneuro/ses-01/IED-preproc/',\n",
       " 'Y:/stg-preproc/sub-FL021/task-flickerneuro/ses-01/IED-preproc/']"
      ]
     },
     "execution_count": 34,
     "metadata": {},
     "output_type": "execute_result"
    }
   ],
   "source": [
    "IED_path"
   ]
  },
  {
   "cell_type": "code",
   "execution_count": 35,
   "id": "aa4b7ec7-fbf9-4d69-9a09-92aad0ca3e2b",
   "metadata": {},
   "outputs": [
    {
     "data": {
      "text/plain": [
       "array([ 0,  1,  2,  3,  4,  5,  6,  7,  8,  9, 10, 11, 12, 13])"
      ]
     },
     "execution_count": 35,
     "metadata": {},
     "output_type": "execute_result"
    }
   ],
   "source": [
    "# Import subject's Excel file\n",
    "sessions = np.arange(0,rows)\n",
    "sessions"
   ]
  },
  {
   "cell_type": "code",
   "execution_count": 36,
   "id": "44504c8e-3fcc-4474-a7eb-ee560759b11e",
   "metadata": {},
   "outputs": [
    {
     "data": {
      "text/plain": [
       "'Y:/stg-preproc/sub-FL000/task-flickerneuro/ses-01/IED-preproc/sub-FL000_allspikes.csv'"
      ]
     },
     "execution_count": 36,
     "metadata": {},
     "output_type": "execute_result"
    }
   ],
   "source": [
    "session_path=IED_path[0]+'sub-'+ str(sessions_flickerneuro.loc[0,'Subject_ID'])+'_allspikes.csv'\n",
    "session_path"
   ]
  },
  {
   "cell_type": "code",
   "execution_count": 37,
   "id": "afc6c2f2-daa2-4ee2-ba7b-a9d3d22e9f68",
   "metadata": {},
   "outputs": [
    {
     "data": {
      "text/plain": [
       "'Y:\\\\stg-preproc\\\\sub-FL000\\\\task-flickerneuro\\\\ses-01\\\\IED-preproc\\\\sub-FL000_allspikes.csv'"
      ]
     },
     "execution_count": 37,
     "metadata": {},
     "output_type": "execute_result"
    }
   ],
   "source": [
    "session_path_win = os.path.abspath(session_path)\n",
    "session_path_win"
   ]
  },
  {
   "cell_type": "code",
   "execution_count": 38,
   "id": "c9d8ccc8-c7f8-4c3a-9823-f94a0a8b864f",
   "metadata": {},
   "outputs": [
    {
     "data": {
      "text/plain": [
       "True"
      ]
     },
     "execution_count": 38,
     "metadata": {},
     "output_type": "execute_result"
    }
   ],
   "source": [
    "os.path.exists(session_path_win)"
   ]
  },
  {
   "cell_type": "code",
   "execution_count": 40,
   "id": "631758a6-186d-4c09-978a-f2e69957ba3f",
   "metadata": {},
   "outputs": [
    {
     "data": {
      "text/html": [
       "<div>\n",
       "<style scoped>\n",
       "    .dataframe tbody tr th:only-of-type {\n",
       "        vertical-align: middle;\n",
       "    }\n",
       "\n",
       "    .dataframe tbody tr th {\n",
       "        vertical-align: top;\n",
       "    }\n",
       "\n",
       "    .dataframe thead th {\n",
       "        text-align: right;\n",
       "    }\n",
       "</style>\n",
       "<table border=\"1\" class=\"dataframe\">\n",
       "  <thead>\n",
       "    <tr style=\"text-align: right;\">\n",
       "      <th></th>\n",
       "      <th>clip_ids</th>\n",
       "      <th>clip</th>\n",
       "      <th>subject</th>\n",
       "      <th>start</th>\n",
       "      <th>chan</th>\n",
       "      <th>predicted_class</th>\n",
       "    </tr>\n",
       "  </thead>\n",
       "  <tbody>\n",
       "    <tr>\n",
       "      <th>0</th>\n",
       "      <td>Y:/singer/Lou/Data/temp_flicker-manuscript_IED...</td>\n",
       "      <td>FL000_233_5</td>\n",
       "      <td>FL000</td>\n",
       "      <td>233</td>\n",
       "      <td>5</td>\n",
       "      <td>0</td>\n",
       "    </tr>\n",
       "    <tr>\n",
       "      <th>1</th>\n",
       "      <td>Y:/singer/Lou/Data/temp_flicker-manuscript_IED...</td>\n",
       "      <td>FL000_4503_51</td>\n",
       "      <td>FL000</td>\n",
       "      <td>4503</td>\n",
       "      <td>51</td>\n",
       "      <td>0</td>\n",
       "    </tr>\n",
       "    <tr>\n",
       "      <th>2</th>\n",
       "      <td>Y:/singer/Lou/Data/temp_flicker-manuscript_IED...</td>\n",
       "      <td>FL000_5723_10</td>\n",
       "      <td>FL000</td>\n",
       "      <td>5723</td>\n",
       "      <td>10</td>\n",
       "      <td>0</td>\n",
       "    </tr>\n",
       "    <tr>\n",
       "      <th>3</th>\n",
       "      <td>Y:/singer/Lou/Data/temp_flicker-manuscript_IED...</td>\n",
       "      <td>FL000_6062_62</td>\n",
       "      <td>FL000</td>\n",
       "      <td>6062</td>\n",
       "      <td>62</td>\n",
       "      <td>1</td>\n",
       "    </tr>\n",
       "    <tr>\n",
       "      <th>4</th>\n",
       "      <td>Y:/singer/Lou/Data/temp_flicker-manuscript_IED...</td>\n",
       "      <td>FL000_6066_65</td>\n",
       "      <td>FL000</td>\n",
       "      <td>6066</td>\n",
       "      <td>65</td>\n",
       "      <td>0</td>\n",
       "    </tr>\n",
       "  </tbody>\n",
       "</table>\n",
       "</div>"
      ],
      "text/plain": [
       "                                            clip_ids           clip subject  \\\n",
       "0  Y:/singer/Lou/Data/temp_flicker-manuscript_IED...    FL000_233_5   FL000   \n",
       "1  Y:/singer/Lou/Data/temp_flicker-manuscript_IED...  FL000_4503_51   FL000   \n",
       "2  Y:/singer/Lou/Data/temp_flicker-manuscript_IED...  FL000_5723_10   FL000   \n",
       "3  Y:/singer/Lou/Data/temp_flicker-manuscript_IED...  FL000_6062_62   FL000   \n",
       "4  Y:/singer/Lou/Data/temp_flicker-manuscript_IED...  FL000_6066_65   FL000   \n",
       "\n",
       "   start  chan  predicted_class  \n",
       "0    233     5                0  \n",
       "1   4503    51                0  \n",
       "2   5723    10                0  \n",
       "3   6062    62                1  \n",
       "4   6066    65                0  "
      ]
     },
     "execution_count": 40,
     "metadata": {},
     "output_type": "execute_result"
    }
   ],
   "source": [
    "session_df = pd.read_csv(session_path_win)\n",
    "session_df.head()"
   ]
  },
  {
   "cell_type": "markdown",
   "id": "a6eeedf6-ade1-4059-9bde-c53e87649e89",
   "metadata": {},
   "source": [
    "### 2.1: filter out false positive IED events: 0 is true IED 1 is False positive"
   ]
  },
  {
   "cell_type": "code",
   "execution_count": 41,
   "id": "cd24aea2-bbee-4064-abd8-9afbe9196649",
   "metadata": {},
   "outputs": [
    {
     "data": {
      "text/html": [
       "<div>\n",
       "<style scoped>\n",
       "    .dataframe tbody tr th:only-of-type {\n",
       "        vertical-align: middle;\n",
       "    }\n",
       "\n",
       "    .dataframe tbody tr th {\n",
       "        vertical-align: top;\n",
       "    }\n",
       "\n",
       "    .dataframe thead th {\n",
       "        text-align: right;\n",
       "    }\n",
       "</style>\n",
       "<table border=\"1\" class=\"dataframe\">\n",
       "  <thead>\n",
       "    <tr style=\"text-align: right;\">\n",
       "      <th></th>\n",
       "      <th>clip_ids</th>\n",
       "      <th>clip</th>\n",
       "      <th>subject</th>\n",
       "      <th>start</th>\n",
       "      <th>chan</th>\n",
       "      <th>predicted_class</th>\n",
       "    </tr>\n",
       "  </thead>\n",
       "  <tbody>\n",
       "    <tr>\n",
       "      <th>0</th>\n",
       "      <td>Y:/singer/Lou/Data/temp_flicker-manuscript_IED...</td>\n",
       "      <td>FL000_233_5</td>\n",
       "      <td>FL000</td>\n",
       "      <td>233</td>\n",
       "      <td>5</td>\n",
       "      <td>0</td>\n",
       "    </tr>\n",
       "    <tr>\n",
       "      <th>1</th>\n",
       "      <td>Y:/singer/Lou/Data/temp_flicker-manuscript_IED...</td>\n",
       "      <td>FL000_4503_51</td>\n",
       "      <td>FL000</td>\n",
       "      <td>4503</td>\n",
       "      <td>51</td>\n",
       "      <td>0</td>\n",
       "    </tr>\n",
       "    <tr>\n",
       "      <th>2</th>\n",
       "      <td>Y:/singer/Lou/Data/temp_flicker-manuscript_IED...</td>\n",
       "      <td>FL000_5723_10</td>\n",
       "      <td>FL000</td>\n",
       "      <td>5723</td>\n",
       "      <td>10</td>\n",
       "      <td>0</td>\n",
       "    </tr>\n",
       "    <tr>\n",
       "      <th>4</th>\n",
       "      <td>Y:/singer/Lou/Data/temp_flicker-manuscript_IED...</td>\n",
       "      <td>FL000_6066_65</td>\n",
       "      <td>FL000</td>\n",
       "      <td>6066</td>\n",
       "      <td>65</td>\n",
       "      <td>0</td>\n",
       "    </tr>\n",
       "    <tr>\n",
       "      <th>5</th>\n",
       "      <td>Y:/singer/Lou/Data/temp_flicker-manuscript_IED...</td>\n",
       "      <td>FL000_6066_66</td>\n",
       "      <td>FL000</td>\n",
       "      <td>6066</td>\n",
       "      <td>66</td>\n",
       "      <td>0</td>\n",
       "    </tr>\n",
       "  </tbody>\n",
       "</table>\n",
       "</div>"
      ],
      "text/plain": [
       "                                            clip_ids           clip subject  \\\n",
       "0  Y:/singer/Lou/Data/temp_flicker-manuscript_IED...    FL000_233_5   FL000   \n",
       "1  Y:/singer/Lou/Data/temp_flicker-manuscript_IED...  FL000_4503_51   FL000   \n",
       "2  Y:/singer/Lou/Data/temp_flicker-manuscript_IED...  FL000_5723_10   FL000   \n",
       "4  Y:/singer/Lou/Data/temp_flicker-manuscript_IED...  FL000_6066_65   FL000   \n",
       "5  Y:/singer/Lou/Data/temp_flicker-manuscript_IED...  FL000_6066_66   FL000   \n",
       "\n",
       "   start  chan  predicted_class  \n",
       "0    233     5                0  \n",
       "1   4503    51                0  \n",
       "2   5723    10                0  \n",
       "4   6066    65                0  \n",
       "5   6066    66                0  "
      ]
     },
     "execution_count": 41,
     "metadata": {},
     "output_type": "execute_result"
    }
   ],
   "source": [
    "session_df_tp = session_df[session_df['predicted_class']==0]\n",
    "session_df_tp.head()"
   ]
  },
  {
   "cell_type": "markdown",
   "id": "9c535578-704c-41ec-9e36-061cb93feaa5",
   "metadata": {},
   "source": [
    "### 2.2: filter out overlapping IED events within 100 msec\n",
    "- fs = 200 Hz -> ts = 5 mses\n",
    "- 100 msec/5 msec = 20 samples\n",
    "- next IED start >= 20 samples "
   ]
  },
  {
   "cell_type": "code",
   "execution_count": null,
   "id": "9465cdb6-4c6e-4a5a-ac3c-fff244174aeb",
   "metadata": {},
   "outputs": [],
   "source": []
  },
  {
   "cell_type": "markdown",
   "id": "0af181fc-5fc2-482a-91ef-31eabe4bab6d",
   "metadata": {},
   "source": [
    "##  3. Plot histograms with different time size bins for each session\n"
   ]
  },
  {
   "cell_type": "code",
   "execution_count": null,
   "id": "1d8826db-6ec1-4fcd-8d52-8f8019d5385f",
   "metadata": {},
   "outputs": [],
   "source": []
  },
  {
   "cell_type": "markdown",
   "id": "5e3e842b-ccbc-49ca-88c0-d8913166347d",
   "metadata": {},
   "source": [
    "## 4. convert each step into a function and run in a loop for all of the selected subject's sessions\n"
   ]
  },
  {
   "cell_type": "code",
   "execution_count": null,
   "id": "cd8fff5e-67cf-4695-ac8f-9da760f20d00",
   "metadata": {},
   "outputs": [],
   "source": []
  }
 ],
 "metadata": {
  "kernelspec": {
   "display_name": "Python 3 (ipykernel)",
   "language": "python",
   "name": "python3"
  },
  "language_info": {
   "codemirror_mode": {
    "name": "ipython",
    "version": 3
   },
   "file_extension": ".py",
   "mimetype": "text/x-python",
   "name": "python",
   "nbconvert_exporter": "python",
   "pygments_lexer": "ipython3",
   "version": "3.9.16"
  }
 },
 "nbformat": 4,
 "nbformat_minor": 5
}
